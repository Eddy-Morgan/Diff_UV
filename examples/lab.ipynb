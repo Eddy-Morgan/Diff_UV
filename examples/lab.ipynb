{
 "cells": [
  {
   "cell_type": "code",
   "execution_count": 1,
   "metadata": {},
   "outputs": [],
   "source": [
    "from casadi import vertcat,SX\n",
    "import sympy as sp\n",
    "from sympy.physics.mechanics import dynamicsymbols"
   ]
  },
  {
   "cell_type": "code",
   "execution_count": 2,
   "metadata": {},
   "outputs": [],
   "source": [
    "def sympy2casadi(sympy_expr,sympy_var,casadi_var):\n",
    "    import casadi\n",
    "    assert casadi_var.is_vector()\n",
    "    if casadi_var.shape[1]>1:\n",
    "        casadi_var = casadi_var.T\n",
    "    casadi_var = casadi.vertsplit(casadi_var)\n",
    "    from sympy.utilities.lambdify import lambdify\n",
    "\n",
    "    mapping = {'ImmutableDenseMatrix': casadi.blockcat,\n",
    "                'MutableDenseMatrix': casadi.blockcat,\n",
    "                'Abs':casadi.fabs\n",
    "            }\n",
    "    f = lambdify(sympy_var, sympy_expr,modules=[mapping, casadi])\n",
    "    print(casadi_var)\n",
    "    return f(*casadi_var)"
   ]
  },
  {
   "cell_type": "code",
   "execution_count": 3,
   "metadata": {},
   "outputs": [
    {
     "data": {
      "text/latex": [
       "$\\displaystyle \\left[\\begin{matrix}0 & \\left(\\tan^{2}{\\left(\\theta{\\left(t \\right)} \\right)} + 1\\right) \\sin{\\left(\\phi{\\left(t \\right)} \\right)} \\frac{d}{d t} \\theta{\\left(t \\right)} + \\cos{\\left(\\phi{\\left(t \\right)} \\right)} \\tan{\\left(\\theta{\\left(t \\right)} \\right)} \\frac{d}{d t} \\phi{\\left(t \\right)} & \\left(\\tan^{2}{\\left(\\theta{\\left(t \\right)} \\right)} + 1\\right) \\cos{\\left(\\phi{\\left(t \\right)} \\right)} \\frac{d}{d t} \\theta{\\left(t \\right)} - \\sin{\\left(\\phi{\\left(t \\right)} \\right)} \\tan{\\left(\\theta{\\left(t \\right)} \\right)} \\frac{d}{d t} \\phi{\\left(t \\right)}\\\\0 & - \\sin{\\left(\\phi{\\left(t \\right)} \\right)} \\frac{d}{d t} \\phi{\\left(t \\right)} & - \\cos{\\left(\\phi{\\left(t \\right)} \\right)} \\frac{d}{d t} \\phi{\\left(t \\right)}\\\\0 & \\frac{\\sin{\\left(\\phi{\\left(t \\right)} \\right)} \\sin{\\left(\\theta{\\left(t \\right)} \\right)} \\frac{d}{d t} \\theta{\\left(t \\right)}}{\\cos^{2}{\\left(\\theta{\\left(t \\right)} \\right)}} + \\frac{\\cos{\\left(\\phi{\\left(t \\right)} \\right)} \\frac{d}{d t} \\phi{\\left(t \\right)}}{\\cos{\\left(\\theta{\\left(t \\right)} \\right)}} & - \\frac{\\sin{\\left(\\phi{\\left(t \\right)} \\right)} \\frac{d}{d t} \\phi{\\left(t \\right)}}{\\cos{\\left(\\theta{\\left(t \\right)} \\right)}} + \\frac{\\sin{\\left(\\theta{\\left(t \\right)} \\right)} \\cos{\\left(\\phi{\\left(t \\right)} \\right)} \\frac{d}{d t} \\theta{\\left(t \\right)}}{\\cos^{2}{\\left(\\theta{\\left(t \\right)} \\right)}}\\end{matrix}\\right]$"
      ],
      "text/plain": [
       "Matrix([\n",
       "[0,         (tan(theta(t))**2 + 1)*sin(phi(t))*Derivative(theta(t), t) + cos(phi(t))*tan(theta(t))*Derivative(phi(t), t),          (tan(theta(t))**2 + 1)*cos(phi(t))*Derivative(theta(t), t) - sin(phi(t))*tan(theta(t))*Derivative(phi(t), t)],\n",
       "[0,                                                                                   -sin(phi(t))*Derivative(phi(t), t),                                                                                    -cos(phi(t))*Derivative(phi(t), t)],\n",
       "[0, sin(phi(t))*sin(theta(t))*Derivative(theta(t), t)/cos(theta(t))**2 + cos(phi(t))*Derivative(phi(t), t)/cos(theta(t)), -sin(phi(t))*Derivative(phi(t), t)/cos(theta(t)) + sin(theta(t))*cos(phi(t))*Derivative(theta(t), t)/cos(theta(t))**2]])"
      ]
     },
     "execution_count": 3,
     "metadata": {},
     "output_type": "execute_result"
    }
   ],
   "source": [
    "# Define the symbols\n",
    "theta_sp, phi_sp = dynamicsymbols('theta phi')\n",
    "# Create the matrix T\n",
    "T = sp.Matrix([\n",
    "    [1, sp.sin(phi_sp)*sp.tan(theta_sp), sp.cos(phi_sp)*sp.tan(theta_sp)],\n",
    "    [0, sp.cos(phi_sp), -sp.sin(phi_sp)],\n",
    "    [0, sp.sin(phi_sp)/sp.cos(theta_sp), sp.cos(phi_sp)/sp.cos(theta_sp)]\n",
    "])\n",
    "\n",
    "\n",
    "dtheta_sp = sp.diff(theta_sp,'t')\n",
    "dphi_sp =sp.diff(phi_sp,'t')\n",
    "\n",
    "dT_sp = sp.diff(T,'t',1)\n",
    "\n",
    "dT_sp"
   ]
  },
  {
   "cell_type": "code",
   "execution_count": 5,
   "metadata": {},
   "outputs": [
    {
     "name": "stdout",
     "output_type": "stream",
     "text": [
      "[SX(thet), SX(dthet), SX(phi), SX(dphi)]\n"
     ]
    },
    {
     "data": {
      "text/plain": [
       "SX(@1=0, @2=1, \n",
       "[[@1, (((dthet*(sq(tan(thet))+@2))*sin(phi))+((dphi*cos(phi))*tan(thet))), (((dthet*(sq(tan(thet))+@2))*cos(phi))-((dphi*sin(phi))*tan(thet)))], \n",
       " [@1, (-(dphi*sin(phi))), (-(dphi*cos(phi)))], \n",
       " [@1, ((((dthet*sin(thet))*sin(phi))/sq(cos(thet)))+((dphi*cos(phi))/cos(thet))), ((((dthet*sin(thet))*cos(phi))/sq(cos(thet)))-((dphi*sin(phi))/cos(thet)))]])"
      ]
     },
     "execution_count": 5,
     "metadata": {},
     "output_type": "execute_result"
    }
   ],
   "source": [
    "theta = SX.sym(\"thet\")\n",
    "dtheta = SX.sym(\"dthet\")\n",
    "phi = SX.sym(\"phi\")\n",
    "dphi = SX.sym(\"dphi\")\n",
    "dT = sympy2casadi(dT_sp, [theta_sp, dtheta_sp, phi_sp, dphi_sp], vertcat(theta,dtheta,phi,dphi))\n",
    "dT"
   ]
  },
  {
   "cell_type": "code",
   "execution_count": null,
   "metadata": {},
   "outputs": [],
   "source": []
  },
  {
   "cell_type": "code",
   "execution_count": null,
   "metadata": {},
   "outputs": [],
   "source": []
  }
 ],
 "metadata": {
  "kernelspec": {
   "display_name": ".venv",
   "language": "python",
   "name": "python3"
  },
  "language_info": {
   "codemirror_mode": {
    "name": "ipython",
    "version": 3
   },
   "file_extension": ".py",
   "mimetype": "text/x-python",
   "name": "python",
   "nbconvert_exporter": "python",
   "pygments_lexer": "ipython3",
   "version": "3.11.7"
  }
 },
 "nbformat": 4,
 "nbformat_minor": 2
}
