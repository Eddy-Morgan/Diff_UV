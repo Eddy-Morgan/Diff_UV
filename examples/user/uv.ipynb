{
 "cells": [
  {
   "cell_type": "code",
   "execution_count": 1,
   "metadata": {},
   "outputs": [],
   "source": [
    "from casadi import SX, inv, vertcat, horzcat, Function, integrator, sin, cos, diag, skew, substitute, DM , tan"
   ]
  },
  {
   "cell_type": "code",
   "execution_count": 2,
   "metadata": {},
   "outputs": [],
   "source": [
    "# Equations of motion expressed in BODY\n",
    "\n",
    "# 6 DOF states vectors\n",
    "u = SX.sym('u')\n",
    "v = SX.sym('v')\n",
    "w = SX.sym('w')\n",
    "v_nb = vertcat(u, v, w)  # body-fixed linear velocity\n",
    "\n",
    "p = SX.sym('p')\n",
    "q = SX.sym('q')\n",
    "r = SX.sym('r')\n",
    "w_nb = vertcat(p, q, r)  # body-fixed angular velocity\n",
    "\n",
    "x_nb = vertcat(v_nb, w_nb)\n",
    "\n",
    "\n",
    "W = SX.sym('W')  # weight\n",
    "B = SX.sym('B')  # buoyancy\n",
    "\n",
    "thet = SX.sym('thet')\n",
    "phi = SX.sym('phi')\n",
    "psi = SX.sym('psi')\n",
    "\n",
    "m = SX.sym('m')  # Mass\n",
    "\n",
    "I_x = SX.sym('I_x')  # moment of inertia x entry\n",
    "I_y = SX.sym('I_y')  # moment of inertia y entry\n",
    "I_z = SX.sym('I_z')  # moment of inertia z entry\n",
    "I_zx = SX.sym('I_zx')  # product of inertia zx entry\n",
    "I_yx = SX.sym('I_yx')  # product of inertia yx entry\n",
    "I_zy = SX.sym('I_zy')  # product of inertia zy entry\n",
    "\n",
    "x_g = SX.sym('x_g')  # Center of gravity, x-axis\n",
    "y_g = SX.sym('y_g')  # Center of gravity, y-axis\n",
    "z_g = SX.sym('z_g')  # Center of gravity, z-axis\n",
    "\n",
    "x_b = SX.sym('x_b')  # Center of buoyancy, x-axis\n",
    "y_b = SX.sym('y_b')  # Center of buoyancy, y-axis\n",
    "z_b = SX.sym('z_b')  # Center of buoyancy, z-axis\n",
    "\n",
    "\n",
    "X_du = SX.sym('X_du') # Added mass in surge\n",
    "X_dv = SX.sym('X_dv') # coupled Added mass in surge & sway\n",
    "X_dw = SX.sym('X_dw') # coupled Added mass in surge & heave\n",
    "X_dp = SX.sym('X_dp') # coupled Added mass in surge & roll\n",
    "X_dq = SX.sym('X_dq') # coupled Added mass in surge & pitch\n",
    "X_dr = SX.sym('X_dr') # coupled Added mass in surge & pitch\n",
    "\n",
    "Y_du = SX.sym('Y_du') # Added mass in sway & surge\n",
    "Y_dv = SX.sym('Y_dv') # Added mass in sway\n",
    "Y_dw = SX.sym('Y_dw') # coupled Added mass in sway & heave\n",
    "Y_dp = SX.sym('Y_dp') # coupled Added mass in sway & roll\n",
    "Y_dq = SX.sym('Y_dq') # coupled Added mass in sway & pitch\n",
    "Y_dr = SX.sym('Y_dr') # coupled Added mass in sway & yaw\n",
    "\n",
    "Z_du = SX.sym('Z_du') # coupled Added mass in heave & surge\n",
    "Z_dv = SX.sym('Z_dv') # coupled Added mass in heave & sway\n",
    "Z_dw = SX.sym('Z_dw') # Added mass in heave\n",
    "Z_dp = SX.sym('Z_dp') # coupled Added mass in heave & roll\n",
    "Z_dq = SX.sym('Z_dq') # coupled Added mass in heave & pitch\n",
    "Z_dr = SX.sym('Z_dr') # coupled Added mass in heave & yaw\n",
    "\n",
    "K_du = SX.sym('K_du') # coupled Added mass in roll & surge\n",
    "K_dv = SX.sym('K_dv') # coupled Added mass in roll & sway\n",
    "K_dw = SX.sym('K_dw') # coupled Added mass in roll & heave\n",
    "K_dp = SX.sym('K_dp') # Added mass in roll\n",
    "K_dq = SX.sym('K_dq') # coupled Added mass in roll & pitch\n",
    "K_dr = SX.sym('K_dr') # coupled Added mass in roll & yaw\n",
    "\n",
    "M_du = SX.sym('M_du') # coupled Added mass in pitch & surge\n",
    "M_dv = SX.sym('M_dv') # coupled Added mass in pitch & sway\n",
    "M_dw = SX.sym('M_dw') # coupled Added mass in pitch & heave\n",
    "M_dp = SX.sym('M_dp') # coupled Added mass in pitch & roll\n",
    "M_dq = SX.sym('M_dq') # Added mass in pitch\n",
    "M_dr = SX.sym('M_dr') # coupled Added mass in pitch & yaw\n",
    "\n",
    "N_du = SX.sym('N_du') # coupled Added mass in yaw & surge\n",
    "N_dv = SX.sym('N_dv') # coupled Added mass in yaw & sway\n",
    "N_dw = SX.sym('N_dw') # coupled Added mass in yaw & heave\n",
    "N_dp = SX.sym('N_dp') # coupled Added mass in yaw & roll\n",
    "N_dq = SX.sym('N_dq') # coupled Added mass in yaw & pitch\n",
    "N_dr = SX.sym('N_dr') # Added mass in yaw"
   ]
  },
  {
   "cell_type": "code",
   "execution_count": 3,
   "metadata": {},
   "outputs": [
    {
     "data": {
      "text/plain": [
       "SX(\n",
       "[[(cos(psi)*cos(thet)), (((cos(psi)*sin(thet))*sin(phi))-(sin(psi)*cos(phi))), ((sin(psi)*cos(phi))+((cos(psi)*cos(phi))*sin(thet)))], \n",
       " [(sin(psi)*cos(thet)), ((cos(psi)*cos(phi))+((sin(phi)*sin(thet))*sin(psi))), (((sin(thet)*sin(psi))*sin(phi))-(cos(psi)*cos(phi)))], \n",
       " [(-sin(thet)), (cos(thet)*sin(phi)), (cos(thet)*cos(phi))]])"
      ]
     },
     "execution_count": 3,
     "metadata": {},
     "output_type": "execute_result"
    }
   ],
   "source": [
    "R = SX(3, 3)\n",
    "R[0,0] = cos(psi)*cos(thet)\n",
    "R[0,1] = -sin(psi)*cos(phi) + cos(psi)*sin(thet)*sin(phi)\n",
    "R[0,2] = sin(psi)*cos(phi) + cos(psi)*cos(phi)*sin(thet)\n",
    "R[1,0] = sin(psi)*cos(thet)\n",
    "R[1,1] = cos(psi)*cos(phi) + sin(phi)*sin(thet)*sin(psi)\n",
    "R[1,2] = -cos(psi)*cos(phi) + sin(thet)*sin(psi)*sin(phi)\n",
    "R[2,0] = -sin(thet)\n",
    "R[2,1] = cos(thet)*sin(phi)\n",
    "R[2,2] = cos(thet)*cos(phi)\n",
    "R\n"
   ]
  },
  {
   "cell_type": "code",
   "execution_count": 4,
   "metadata": {},
   "outputs": [
    {
     "data": {
      "text/plain": [
       "SX(\n",
       "[[1, 00, (-sin(thet))], \n",
       " [00, cos(phi), (cos(thet)*sin(phi))], \n",
       " [00, (-sin(phi)), (cos(thet)*cos(phi))]])"
      ]
     },
     "execution_count": 4,
     "metadata": {},
     "output_type": "execute_result"
    }
   ],
   "source": [
    "T = SX.eye(3)\n",
    "T[0,1] = sin(phi)*tan(thet)\n",
    "T[0,2] = cos(phi)*tan(thet)\n",
    "T[1,1] = cos(phi)\n",
    "T[1,2] = -sin(phi)\n",
    "T[2,1] = sin(phi)/cos(thet)\n",
    "T[2,2] = cos(phi)/cos(thet)\n",
    "\n",
    "\n",
    "T_1 = SX.eye(3)\n",
    "T_1[0,2] = -sin(thet)\n",
    "T_1[1,1] = cos(phi)\n",
    "T_1[1,2] = cos(thet)*sin(phi)\n",
    "T_1[2,1] = -sin(phi)\n",
    "T_1[2,2] = cos(thet)*cos(phi)\n",
    "T_1"
   ]
  },
  {
   "cell_type": "code",
   "execution_count": 5,
   "metadata": {},
   "outputs": [
    {
     "data": {
      "text/plain": [
       "SX(@1=0, @2=cos(phi), @3=(cos(phi)/cos(thet)), @4=sin(phi), @5=(sin(phi)/cos(thet)), @6=((@2*@3)+(@4*@5)), @7=(cos(phi)*tan(thet)), @8=(sin(phi)*tan(thet)), \n",
       "[[(cos(psi)*cos(thet)), (sin(psi)*cos(thet)), (-sin(thet)), @1, @1, @1], \n",
       " [(((cos(psi)*sin(thet))*sin(phi))-(sin(psi)*cos(phi))), ((cos(psi)*cos(phi))+((sin(phi)*sin(thet))*sin(psi))), (cos(thet)*sin(phi)), @1, @1, @1], \n",
       " [((sin(psi)*cos(phi))+((cos(psi)*cos(phi))*sin(thet))), (((sin(thet)*sin(psi))*sin(phi))-(cos(psi)*cos(phi))), (cos(thet)*cos(phi)), @1, @1, @1], \n",
       " [@1, @1, @1, (((@2*@3)+(@4*@5))/@6), (((@5*@7)-(@3*@8))/@6), (-(((@2*@7)+(@4*@8))/@6))], \n",
       " [@1, @1, @1, 00, (@3/@6), (@4/@6)], \n",
       " [@1, @1, @1, 00, (-(@5/@6)), (@2/@6)]])"
      ]
     },
     "execution_count": 5,
     "metadata": {},
     "output_type": "execute_result"
    }
   ],
   "source": [
    "J = SX.zeros(6, 6)\n",
    "J[:3,:3] = R\n",
    "J[3:,3:] = T\n",
    "J\n",
    "\n",
    "J_1 = SX.zeros(6, 6)\n",
    "J_1[:3,:3] = R.T\n",
    "J_1[3:,3:] = inv(T)\n",
    "J_1\n"
   ]
  },
  {
   "cell_type": "code",
   "execution_count": 6,
   "metadata": {},
   "outputs": [
    {
     "data": {
      "text/plain": [
       "SX(\n",
       "[[(m-X_du), (-X_dv), (-X_dw), (-X_dp), ((m*z_g)-X_dq), (-((m*y_g)+X_dr))], \n",
       " [(-X_dv), (m-Y_dv), (-Y_dw), (-((m*z_g)+Y_dp)), (-Y_dq), ((m*x_g)-Y_dr)], \n",
       " [(-X_dw), (-Y_dw), (m-Z_dw), ((m*y_g)-Z_dp), (-((m*x_g)+Z_dq)), (-Z_dr)], \n",
       " [(-X_dp), (-((m*z_g)+Y_dp)), ((m*y_g)-Z_dp), (I_x-K_dp), (-(I_yx+K_dq)), (-(I_zx+K_dr))], \n",
       " [((m*z_g)-X_dq), (-Y_dq), (-((m*x_g)+Z_dq)), (-(I_yx+K_dq)), (I_y-M_dq), (-(I_zy+M_dr))], \n",
       " [(-((m*y_g)+X_dr)), ((m*x_g)-Y_dr), (-Z_dr), (-(I_zx+K_dr)), (-(I_zy+M_dr)), (I_z-N_dr)]])"
      ]
     },
     "execution_count": 6,
     "metadata": {},
     "output_type": "execute_result"
    }
   ],
   "source": [
    "_M = SX(6, 6)\n",
    "\n",
    "\n",
    "_M[0, :] = horzcat(m - X_du, -X_dv, -X_dw, -X_dp, m*z_g - X_dq, -m*y_g - X_dr)\n",
    "_M[1, :] = horzcat(-X_dv, m-Y_dv, -Y_dw, -m*z_g-Y_dp, -Y_dq, m*x_g - Y_dr)\n",
    "_M[2, :] = horzcat(-X_dw, -Y_dw, m - Z_dw, m*y_g - Z_dp, -m*x_g - Z_dq, -Z_dr)\n",
    "_M[3, :] = horzcat(-X_dp, -m*z_g-Y_dp, m*y_g - Z_dp, I_x - K_dp, -I_yx - K_dq, -I_zx - K_dr)\n",
    "_M[4, :] = horzcat(m*z_g - X_dq, -Y_dq, -m*x_g - Z_dq, -I_yx - K_dq, I_y - M_dq, -I_zy - M_dr)\n",
    "_M[5, :] = horzcat(-m*y_g - X_dr, m*x_g - Y_dr, -Z_dr, -I_zx - K_dr, -I_zy - M_dr, I_z - N_dr)\n",
    "\n",
    "_M"
   ]
  },
  {
   "cell_type": "code",
   "execution_count": 7,
   "metadata": {},
   "outputs": [
    {
     "data": {
      "text/plain": [
       "SX(@1=0, \n",
       "[[(m-X_du), @1, (-X_dw), @1, ((m*z_g)-X_dq), @1], \n",
       " [@1, (m-Y_dv), @1, (-((m*z_g)+Y_dp)), @1, ((m*x_g)-Y_dr)], \n",
       " [(-X_dw), @1, (m-Z_dw), @1, (-((m*x_g)+Z_dq)), @1], \n",
       " [@1, (-((m*z_g)+Y_dp)), @1, (I_x-K_dp), @1, (-(I_zx+K_dr))], \n",
       " [((m*z_g)-X_dq), @1, (-((m*x_g)+Z_dq)), @1, (I_y-M_dq), @1], \n",
       " [@1, ((m*x_g)-Y_dr), @1, (-(I_zx+K_dr)), @1, (I_z-N_dr)]])"
      ]
     },
     "execution_count": 7,
     "metadata": {},
     "output_type": "execute_result"
    }
   ],
   "source": [
    "# assuming Starboard–port symmetrical underwater vehicles yg=0 and Ixy = Iyz = 0\n",
    "mask = DM([[1, 0, 1, 0, 1, 0],\n",
    "           [0, 1, 0, 1, 0, 1],\n",
    "           [1, 0, 1, 0, 1, 0],\n",
    "           [0, 1, 0, 1, 0, 1],\n",
    "           [1, 0, 1, 0, 1, 0],\n",
    "           [0, 1, 0, 1, 0, 1]\n",
    "           ])\n",
    "\n",
    "M = _M*mask\n",
    "M"
   ]
  },
  {
   "cell_type": "code",
   "execution_count": 8,
   "metadata": {},
   "outputs": [
    {
     "data": {
      "text/plain": [
       "SX(@1=0, @2=(m-Z_dw), @3=((m*x_g)+Z_dq), @4=(((@2*w)-(X_dw*u))-(@3*q)), @5=(m-Y_dv), @6=((m*x_g)-Y_dr), @7=((m*z_g)+Y_dp), @8=((@5*v)+((@6*r)-(@7*p))), @9=(m-X_du), @10=((m*z_g)-X_dq), @11=(((@9*u)-(X_dw*w))+(@10*q)), @12=(((@2*w)-(X_dw*u))-(@3*q)), @13=((@5*v)+((@6*r)-(@7*p))), @14=((((m*x_g)-Y_dr)*v)+(((I_z-N_dr)*r)-((I_zx+K_dr)*p))), @15=(((((m*z_g)-X_dq)*u)-(((m*x_g)+Z_dq)*w))+((I_y-M_dq)*q)), @16=(((@9*u)-(X_dw*w))+(@10*q)), @17=((((I_x-K_dp)*p)-((I_zx+K_dr)*r))-(((m*z_g)+Y_dp)*v)), \n",
       "[[@1, @1, @1, @1, @12, (-@13)], \n",
       " [@1, @1, @1, (-@12), @1, @16], \n",
       " [@1, @1, @1, @13, (-@16), @1], \n",
       " [@1, @4, (-@8), @1, @14, (-@15)], \n",
       " [(-@4), @1, @11, (-@14), @1, @17], \n",
       " [@8, (-@11), @1, @15, (-@17), @1]])"
      ]
     },
     "execution_count": 8,
     "metadata": {},
     "output_type": "execute_result"
    }
   ],
   "source": [
    "M11 = M[:3,:3]\n",
    "M12 = M[:3,3:]\n",
    "M21 = M[3:,:3]\n",
    "M22 = M[3:,3:]\n",
    "\n",
    "C = SX.zeros(6, 6)\n",
    "\n",
    "C[3:,:3] = -skew(M11@v_nb + M12@w_nb)\n",
    "C[:3,3:] = -skew(M11@v_nb + M12@w_nb)\n",
    "C[3:,3:] = -skew(M21@v_nb + M22@w_nb)\n",
    "\n",
    "C \n"
   ]
  },
  {
   "cell_type": "code",
   "execution_count": 9,
   "metadata": {},
   "outputs": [
    {
     "data": {
      "text/plain": [
       "SX([((W-B)*sin(thet)), (-(((W-B)*cos(thet))*sin(phi))), (-(((W-B)*cos(thet))*cos(phi))), (((((z_g*W)-(z_b*B))*cos(thet))*sin(phi))-((((y_g*W)-(y_b*B))*cos(thet))*cos(phi))), ((((z_g*W)-(z_b*B))*sin(thet))+((((x_g*W)-(x_b*B))*cos(thet))*cos(phi))), (-(((((x_g*W)-(x_b*B))*cos(thet))*sin(phi))+(((y_g*W)-(y_b*B))*sin(thet))))])"
      ]
     },
     "execution_count": 9,
     "metadata": {},
     "output_type": "execute_result"
    }
   ],
   "source": [
    "# Hydrostatics of Submerged Vehicles\n",
    "# restoring forces\n",
    "\n",
    "g = SX(6, 1)\n",
    "\n",
    "g[0, 0] = (W - B)*sin(thet)\n",
    "g[1, 0] = -(W - B)*cos(thet)*sin(phi)\n",
    "g[2, 0] = -(W - B)*cos(thet)*cos(phi)\n",
    "g[3, 0] = -(y_g*W - y_b*B)*cos(thet)*cos(phi) + \\\n",
    "    (z_g*W - z_b*B)*cos(thet)*sin(phi)\n",
    "g[4, 0] = (z_g*W - z_b*B)*sin(thet) + (x_g*W - x_b*B)*cos(thet)*cos(phi)\n",
    "g[5, 0] = -(x_g*W - x_b*B)*cos(thet)*sin(phi) - (y_g*W - y_b*B)*sin(thet)\n",
    "# For neutrally buoyant vehicles W = B\n",
    "\n",
    "g"
   ]
  },
  {
   "cell_type": "code",
   "execution_count": 10,
   "metadata": {},
   "outputs": [
    {
     "data": {
      "text/plain": [
       "SX(@1=(((cos(psi)*sin(thet))*sin(phi))-(sin(psi)*cos(phi))), @2=((sin(psi)*cos(phi))+((cos(psi)*cos(phi))*sin(thet))), @3=((cos(psi)*cos(phi))+((sin(phi)*sin(thet))*sin(psi))), @4=(((sin(thet)*sin(psi))*sin(phi))-(cos(psi)*cos(phi))), @5=(cos(thet)*sin(phi)), @6=(cos(thet)*cos(phi)), @7=0, @8=(cos(psi)*cos(thet)), @9=(sin(psi)*cos(thet)), @10=sin(thet), \n",
       "[[((@1*w)-(@2*v)), ((@2*u)-(@8*w)), ((@8*v)-(@1*u)), @7, @7, @7], \n",
       " [((@3*w)-(@4*v)), ((@4*u)-(@9*w)), ((@9*v)-(@3*u)), @7, @7, @7], \n",
       " [((@5*w)-(@6*v)), ((@10*w)+(@6*u)), (-((@10*v)+(@5*u))), @7, @7, @7], \n",
       " [@7, @7, @7, ((@1*r)-(@2*q)), ((@2*p)-(@8*r)), ((@8*q)-(@1*p))], \n",
       " [@7, @7, @7, ((@3*r)-(@4*q)), ((@4*p)-(@9*r)), ((@9*q)-(@3*p))], \n",
       " [@7, @7, @7, ((@5*r)-(@6*q)), ((@10*r)+(@6*p)), (-((@10*q)+(@5*p)))]])"
      ]
     },
     "execution_count": 10,
     "metadata": {},
     "output_type": "execute_result"
    }
   ],
   "source": [
    "d_R = R@skew(v_nb)\n",
    "d_T = R@skew(w_nb)\n",
    "d_J = SX.zeros(6, 6)\n",
    "d_J[:3,:3] = d_R\n",
    "d_J[3:,3:] = d_T\n",
    "d_J"
   ]
  },
  {
   "cell_type": "code",
   "execution_count": 11,
   "metadata": {},
   "outputs": [
    {
     "ename": "TypeError",
     "evalue": "'SX' object is not callable",
     "output_type": "error",
     "traceback": [
      "\u001b[0;31m---------------------------------------------------------------------------\u001b[0m",
      "\u001b[0;31mTypeError\u001b[0m                                 Traceback (most recent call last)",
      "Cell \u001b[0;32mIn[11], line 3\u001b[0m\n\u001b[1;32m      1\u001b[0m M_ned \u001b[38;5;241m=\u001b[39m J_1\u001b[38;5;241m.\u001b[39mT\u001b[38;5;129m@M\u001b[39m\u001b[38;5;129m@J_1\u001b[39m\n\u001b[0;32m----> 3\u001b[0m C_ned \u001b[38;5;241m=\u001b[39m \u001b[43mJ_1\u001b[49m\u001b[38;5;241;43m.\u001b[39;49m\u001b[43mT\u001b[49m\u001b[43m(\u001b[49m\u001b[43mC\u001b[49m\u001b[38;5;241;43m-\u001b[39;49m\u001b[43mM\u001b[49m\u001b[38;5;129;43m@J_1\u001b[39;49m\u001b[38;5;129;43m@d_J\u001b[39;49m\u001b[43m)\u001b[49m\u001b[38;5;129m@J_1\u001b[39m\n\u001b[1;32m      4\u001b[0m g_ned \u001b[38;5;241m=\u001b[39m J_1\u001b[38;5;241m.\u001b[39mT\u001b[38;5;129m@g\u001b[39m\n\u001b[1;32m      5\u001b[0m \u001b[38;5;66;03m# tau_ned = J_1.T@tau\u001b[39;00m\n",
      "\u001b[0;31mTypeError\u001b[0m: 'SX' object is not callable"
     ]
    }
   ],
   "source": [
    "M_ned = J_1.T@M@J_1\n",
    "\n",
    "# C_ned = J_1.T(C-M@J_1@d_J)@J_1\n",
    "g_ned = J_1.T@g\n",
    "# tau_ned = J_1.T@tau"
   ]
  },
  {
   "cell_type": "code",
   "execution_count": null,
   "metadata": {},
   "outputs": [],
   "source": []
  }
 ],
 "metadata": {
  "kernelspec": {
   "display_name": "Python 3",
   "language": "python",
   "name": "python3"
  },
  "language_info": {
   "codemirror_mode": {
    "name": "ipython",
    "version": 3
   },
   "file_extension": ".py",
   "mimetype": "text/x-python",
   "name": "python",
   "nbconvert_exporter": "python",
   "pygments_lexer": "ipython3",
   "version": "3.11.7"
  }
 },
 "nbformat": 4,
 "nbformat_minor": 2
}
