{
 "cells": [
  {
   "cell_type": "code",
   "execution_count": 4,
   "metadata": {},
   "outputs": [],
   "source": [
    "from casadi import SX, inv, vertcat, horzcat, Function, integrator, sin, cos, diag, skew, substitute, DM , tan, fabs"
   ]
  },
  {
   "cell_type": "code",
   "execution_count": 5,
   "metadata": {},
   "outputs": [],
   "source": [
    "# Equations of motion expressed in BODY\n",
    "\n",
    "# 6 DOF states vectors\n",
    "u = SX.sym('u')\n",
    "du = SX.sym('du')\n",
    "v = SX.sym('v')\n",
    "dv = SX.sym('dv')\n",
    "w = SX.sym('w')\n",
    "dw = SX.sym('dw')\n",
    "v_nb = vertcat(u, v, w)  # body-fixed linear velocity\n",
    "dv_nb = vertcat(du, dv, dw)\n",
    "\n",
    "p = SX.sym('p')\n",
    "dp = SX.sym('dp')\n",
    "q = SX.sym('q')\n",
    "dq = SX.sym('dq')\n",
    "r = SX.sym('r')\n",
    "dr = SX.sym('dr')\n",
    "w_nb = vertcat(p, q, r)  # body-fixed angular velocity\n",
    "dw_nb = vertcat(dp, dq, dr)\n",
    "\n",
    "x_nb = vertcat(v_nb, w_nb)\n",
    "dx_nb = vertcat(dv_nb, dw_nb)\n",
    "\n",
    "\n",
    "\n",
    "\n",
    "\n",
    "\n",
    "W = SX.sym('W')  # weight\n",
    "B = SX.sym('B')  # buoyancy\n",
    "\n",
    "thet = SX.sym('thet')\n",
    "phi = SX.sym('phi')\n",
    "psi = SX.sym('psi')\n",
    "\n",
    "m = SX.sym('m')  # Mass\n",
    "\n",
    "I_x = SX.sym('I_x')  # moment of inertia x entry\n",
    "I_y = SX.sym('I_y')  # moment of inertia y entry\n",
    "I_z = SX.sym('I_z')  # moment of inertia z entry\n",
    "I_zx = SX.sym('I_zx')  # product of inertia zx entry\n",
    "I_yx = SX.sym('I_yx')  # product of inertia yx entry\n",
    "I_zy = SX.sym('I_zy')  # product of inertia zy entry\n",
    "\n",
    "x_g = SX.sym('x_g')  # Center of gravity, x-axis\n",
    "y_g = SX.sym('y_g')  # Center of gravity, y-axis\n",
    "z_g = SX.sym('z_g')  # Center of gravity, z-axis\n",
    "\n",
    "x_b = SX.sym('x_b')  # Center of buoyancy, x-axis\n",
    "y_b = SX.sym('y_b')  # Center of buoyancy, y-axis\n",
    "z_b = SX.sym('z_b')  # Center of buoyancy, z-axis\n",
    "\n",
    "\n",
    "X_du = SX.sym('X_du') # Added mass in surge\n",
    "X_dv = SX.sym('X_dv') # coupled Added mass in surge & sway\n",
    "X_dw = SX.sym('X_dw') # coupled Added mass in surge & heave\n",
    "X_dp = SX.sym('X_dp') # coupled Added mass in surge & roll\n",
    "X_dq = SX.sym('X_dq') # coupled Added mass in surge & pitch\n",
    "X_dr = SX.sym('X_dr') # coupled Added mass in surge & yaw\n",
    "\n",
    "Y_du = SX.sym('Y_du') # Added mass in sway & surge\n",
    "Y_dv = SX.sym('Y_dv') # Added mass in sway\n",
    "Y_dw = SX.sym('Y_dw') # coupled Added mass in sway & heave\n",
    "Y_dp = SX.sym('Y_dp') # coupled Added mass in sway & roll\n",
    "Y_dq = SX.sym('Y_dq') # coupled Added mass in sway & pitch\n",
    "Y_dr = SX.sym('Y_dr') # coupled Added mass in sway & yaw\n",
    "\n",
    "Z_du = SX.sym('Z_du') # coupled Added mass in heave & surge\n",
    "Z_dv = SX.sym('Z_dv') # coupled Added mass in heave & sway\n",
    "Z_dw = SX.sym('Z_dw') # Added mass in heave\n",
    "Z_dp = SX.sym('Z_dp') # coupled Added mass in heave & roll\n",
    "Z_dq = SX.sym('Z_dq') # coupled Added mass in heave & pitch\n",
    "Z_dr = SX.sym('Z_dr') # coupled Added mass in heave & yaw\n",
    "\n",
    "K_du = SX.sym('K_du') # coupled Added mass in roll & surge\n",
    "K_dv = SX.sym('K_dv') # coupled Added mass in roll & sway\n",
    "K_dw = SX.sym('K_dw') # coupled Added mass in roll & heave\n",
    "K_dp = SX.sym('K_dp') # Added mass in roll\n",
    "K_dq = SX.sym('K_dq') # coupled Added mass in roll & pitch\n",
    "K_dr = SX.sym('K_dr') # coupled Added mass in roll & yaw\n",
    "\n",
    "M_du = SX.sym('M_du') # coupled Added mass in pitch & surge\n",
    "M_dv = SX.sym('M_dv') # coupled Added mass in pitch & sway\n",
    "M_dw = SX.sym('M_dw') # coupled Added mass in pitch & heave\n",
    "M_dp = SX.sym('M_dp') # coupled Added mass in pitch & roll\n",
    "M_dq = SX.sym('M_dq') # Added mass in pitch\n",
    "M_dr = SX.sym('M_dr') # coupled Added mass in pitch & yaw\n",
    "\n",
    "N_du = SX.sym('N_du') # coupled Added mass in yaw & surge\n",
    "N_dv = SX.sym('N_dv') # coupled Added mass in yaw & sway\n",
    "N_dw = SX.sym('N_dw') # coupled Added mass in yaw & heave\n",
    "N_dp = SX.sym('N_dp') # coupled Added mass in yaw & roll\n",
    "N_dq = SX.sym('N_dq') # coupled Added mass in yaw & pitch\n",
    "N_dr = SX.sym('N_dr') # Added mass in yaw"
   ]
  },
  {
   "cell_type": "code",
   "execution_count": 6,
   "metadata": {},
   "outputs": [
    {
     "data": {
      "text/plain": [
       "SX([u, v, w, p, q, r])"
      ]
     },
     "execution_count": 6,
     "metadata": {},
     "output_type": "execute_result"
    }
   ],
   "source": [
    "x_nb"
   ]
  },
  {
   "cell_type": "code",
   "execution_count": 7,
   "metadata": {},
   "outputs": [
    {
     "data": {
      "text/plain": [
       "SX(\n",
       "[[(cos(psi)*cos(thet)), (((cos(psi)*sin(thet))*sin(phi))-(sin(psi)*cos(phi))), ((sin(psi)*cos(phi))+((cos(psi)*cos(phi))*sin(thet)))], \n",
       " [(sin(psi)*cos(thet)), ((cos(psi)*cos(phi))+((sin(phi)*sin(thet))*sin(psi))), (((sin(thet)*sin(psi))*sin(phi))-(cos(psi)*cos(phi)))], \n",
       " [(-sin(thet)), (cos(thet)*sin(phi)), (cos(thet)*cos(phi))]])"
      ]
     },
     "execution_count": 7,
     "metadata": {},
     "output_type": "execute_result"
    }
   ],
   "source": [
    "R = SX(3, 3)\n",
    "R[0,0] = cos(psi)*cos(thet)\n",
    "R[0,1] = -sin(psi)*cos(phi) + cos(psi)*sin(thet)*sin(phi)\n",
    "R[0,2] = sin(psi)*cos(phi) + cos(psi)*cos(phi)*sin(thet)\n",
    "R[1,0] = sin(psi)*cos(thet)\n",
    "R[1,1] = cos(psi)*cos(phi) + sin(phi)*sin(thet)*sin(psi)\n",
    "R[1,2] = -cos(psi)*cos(phi) + sin(thet)*sin(psi)*sin(phi)\n",
    "R[2,0] = -sin(thet)\n",
    "R[2,1] = cos(thet)*sin(phi)\n",
    "R[2,2] = cos(thet)*cos(phi)\n",
    "R\n"
   ]
  },
  {
   "cell_type": "code",
   "execution_count": 8,
   "metadata": {},
   "outputs": [
    {
     "data": {
      "text/plain": [
       "SX(\n",
       "[[1, 00, (-sin(thet))], \n",
       " [00, cos(phi), (cos(thet)*sin(phi))], \n",
       " [00, (-sin(phi)), (cos(thet)*cos(phi))]])"
      ]
     },
     "execution_count": 8,
     "metadata": {},
     "output_type": "execute_result"
    }
   ],
   "source": [
    "T = SX.eye(3)\n",
    "T[0,1] = sin(phi)*tan(thet)\n",
    "T[0,2] = cos(phi)*tan(thet)\n",
    "T[1,1] = cos(phi)\n",
    "T[1,2] = -sin(phi)\n",
    "T[2,1] = sin(phi)/cos(thet)\n",
    "T[2,2] = cos(phi)/cos(thet)\n",
    "\n",
    "\n",
    "T_1 = SX.eye(3)\n",
    "T_1[0,2] = -sin(thet)\n",
    "T_1[1,1] = cos(phi)\n",
    "T_1[1,2] = cos(thet)*sin(phi)\n",
    "T_1[2,1] = -sin(phi)\n",
    "T_1[2,2] = cos(thet)*cos(phi)\n",
    "T_1"
   ]
  },
  {
   "cell_type": "code",
   "execution_count": 9,
   "metadata": {},
   "outputs": [
    {
     "data": {
      "text/plain": [
       "SX(@1=0, @2=cos(phi), @3=(cos(phi)/cos(thet)), @4=sin(phi), @5=(sin(phi)/cos(thet)), @6=((@2*@3)+(@4*@5)), @7=(cos(phi)*tan(thet)), @8=(sin(phi)*tan(thet)), \n",
       "[[(cos(psi)*cos(thet)), (sin(psi)*cos(thet)), (-sin(thet)), @1, @1, @1], \n",
       " [(((cos(psi)*sin(thet))*sin(phi))-(sin(psi)*cos(phi))), ((cos(psi)*cos(phi))+((sin(phi)*sin(thet))*sin(psi))), (cos(thet)*sin(phi)), @1, @1, @1], \n",
       " [((sin(psi)*cos(phi))+((cos(psi)*cos(phi))*sin(thet))), (((sin(thet)*sin(psi))*sin(phi))-(cos(psi)*cos(phi))), (cos(thet)*cos(phi)), @1, @1, @1], \n",
       " [@1, @1, @1, (((@2*@3)+(@4*@5))/@6), (((@5*@7)-(@3*@8))/@6), (-(((@2*@7)+(@4*@8))/@6))], \n",
       " [@1, @1, @1, 00, (@3/@6), (@4/@6)], \n",
       " [@1, @1, @1, 00, (-(@5/@6)), (@2/@6)]])"
      ]
     },
     "execution_count": 9,
     "metadata": {},
     "output_type": "execute_result"
    }
   ],
   "source": [
    "J = SX.zeros(6, 6)\n",
    "J[:3,:3] = R\n",
    "J[3:,3:] = T\n",
    "J\n",
    "\n",
    "J_1 = SX.zeros(6, 6)\n",
    "J_1[:3,:3] = R.T\n",
    "J_1[3:,3:] = inv(T)\n",
    "J_1\n"
   ]
  },
  {
   "cell_type": "code",
   "execution_count": 10,
   "metadata": {},
   "outputs": [
    {
     "data": {
      "text/plain": [
       "SX(\n",
       "[[(m-X_du), (-X_dv), (-X_dw), (-X_dp), ((m*z_g)-X_dq), (-((m*y_g)+X_dr))], \n",
       " [(-X_dv), (m-Y_dv), (-Y_dw), (-((m*z_g)+Y_dp)), (-Y_dq), ((m*x_g)-Y_dr)], \n",
       " [(-X_dw), (-Y_dw), (m-Z_dw), ((m*y_g)-Z_dp), (-((m*x_g)+Z_dq)), (-Z_dr)], \n",
       " [(-X_dp), (-((m*z_g)+Y_dp)), ((m*y_g)-Z_dp), (I_x-K_dp), (-(I_yx+K_dq)), (-(I_zx+K_dr))], \n",
       " [((m*z_g)-X_dq), (-Y_dq), (-((m*x_g)+Z_dq)), (-(I_yx+K_dq)), (I_y-M_dq), (-(I_zy+M_dr))], \n",
       " [(-((m*y_g)+X_dr)), ((m*x_g)-Y_dr), (-Z_dr), (-(I_zx+K_dr)), (-(I_zy+M_dr)), (I_z-N_dr)]])"
      ]
     },
     "execution_count": 10,
     "metadata": {},
     "output_type": "execute_result"
    }
   ],
   "source": [
    "_M = SX(6, 6)\n",
    "\n",
    "\n",
    "_M[0, :] = horzcat(m - X_du, -X_dv, -X_dw, -X_dp, m*z_g - X_dq, -m*y_g - X_dr)\n",
    "_M[1, :] = horzcat(-X_dv, m-Y_dv, -Y_dw, -m*z_g-Y_dp, -Y_dq, m*x_g - Y_dr)\n",
    "_M[2, :] = horzcat(-X_dw, -Y_dw, m - Z_dw, m*y_g - Z_dp, -m*x_g - Z_dq, -Z_dr)\n",
    "_M[3, :] = horzcat(-X_dp, -m*z_g-Y_dp, m*y_g - Z_dp, I_x - K_dp, -I_yx - K_dq, -I_zx - K_dr)\n",
    "_M[4, :] = horzcat(m*z_g - X_dq, -Y_dq, -m*x_g - Z_dq, -I_yx - K_dq, I_y - M_dq, -I_zy - M_dr)\n",
    "_M[5, :] = horzcat(-m*y_g - X_dr, m*x_g - Y_dr, -Z_dr, -I_zx - K_dr, -I_zy - M_dr, I_z - N_dr)\n",
    "\n",
    "_M"
   ]
  },
  {
   "cell_type": "code",
   "execution_count": 11,
   "metadata": {},
   "outputs": [
    {
     "data": {
      "text/plain": [
       "SX(@1=0, \n",
       "[[(m-X_du), @1, (-X_dw), @1, ((m*z_g)-X_dq), @1], \n",
       " [@1, (m-Y_dv), @1, (-((m*z_g)+Y_dp)), @1, ((m*x_g)-Y_dr)], \n",
       " [(-X_dw), @1, (m-Z_dw), @1, (-((m*x_g)+Z_dq)), @1], \n",
       " [@1, (-((m*z_g)+Y_dp)), @1, (I_x-K_dp), @1, (-(I_zx+K_dr))], \n",
       " [((m*z_g)-X_dq), @1, (-((m*x_g)+Z_dq)), @1, (I_y-M_dq), @1], \n",
       " [@1, ((m*x_g)-Y_dr), @1, (-(I_zx+K_dr)), @1, (I_z-N_dr)]])"
      ]
     },
     "execution_count": 11,
     "metadata": {},
     "output_type": "execute_result"
    }
   ],
   "source": [
    "# assuming Starboard–port symmetrical underwater vehicles yg=0 and Ixy = Iyz = 0\n",
    "mask = DM([[1, 0, 1, 0, 1, 0],\n",
    "           [0, 1, 0, 1, 0, 1],\n",
    "           [1, 0, 1, 0, 1, 0],\n",
    "           [0, 1, 0, 1, 0, 1],\n",
    "           [1, 0, 1, 0, 1, 0],\n",
    "           [0, 1, 0, 1, 0, 1]\n",
    "           ])\n",
    "\n",
    "M = _M*mask\n",
    "M"
   ]
  },
  {
   "cell_type": "code",
   "execution_count": 12,
   "metadata": {},
   "outputs": [
    {
     "data": {
      "text/plain": [
       "SX(@1=0, @2=(m-Z_dw), @3=((m*x_g)+Z_dq), @4=(((@2*w)-(X_dw*u))-(@3*q)), @5=(m-Y_dv), @6=((m*x_g)-Y_dr), @7=((m*z_g)+Y_dp), @8=((@5*v)+((@6*r)-(@7*p))), @9=(m-X_du), @10=((m*z_g)-X_dq), @11=(((@9*u)-(X_dw*w))+(@10*q)), @12=(((@2*w)-(X_dw*u))-(@3*q)), @13=((@5*v)+((@6*r)-(@7*p))), @14=((((m*x_g)-Y_dr)*v)+(((I_z-N_dr)*r)-((I_zx+K_dr)*p))), @15=(((((m*z_g)-X_dq)*u)-(((m*x_g)+Z_dq)*w))+((I_y-M_dq)*q)), @16=(((@9*u)-(X_dw*w))+(@10*q)), @17=((((I_x-K_dp)*p)-((I_zx+K_dr)*r))-(((m*z_g)+Y_dp)*v)), \n",
       "[[@1, @1, @1, @1, @12, (-@13)], \n",
       " [@1, @1, @1, (-@12), @1, @16], \n",
       " [@1, @1, @1, @13, (-@16), @1], \n",
       " [@1, @4, (-@8), @1, @14, (-@15)], \n",
       " [(-@4), @1, @11, (-@14), @1, @17], \n",
       " [@8, (-@11), @1, @15, (-@17), @1]])"
      ]
     },
     "execution_count": 12,
     "metadata": {},
     "output_type": "execute_result"
    }
   ],
   "source": [
    "M11 = M[:3,:3]\n",
    "M12 = M[:3,3:]\n",
    "M21 = M[3:,:3]\n",
    "M22 = M[3:,3:]\n",
    "\n",
    "C = SX.zeros(6, 6)\n",
    "\n",
    "C[3:,:3] = -skew(M11@v_nb + M12@w_nb)\n",
    "C[:3,3:] = -skew(M11@v_nb + M12@w_nb)\n",
    "C[3:,3:] = -skew(M21@v_nb + M22@w_nb)\n",
    "\n",
    "C \n"
   ]
  },
  {
   "cell_type": "code",
   "execution_count": 13,
   "metadata": {},
   "outputs": [
    {
     "data": {
      "text/plain": [
       "SX([((W-B)*sin(thet)), (-(((W-B)*cos(thet))*sin(phi))), (-(((W-B)*cos(thet))*cos(phi))), (((((z_g*W)-(z_b*B))*cos(thet))*sin(phi))-((((y_g*W)-(y_b*B))*cos(thet))*cos(phi))), ((((z_g*W)-(z_b*B))*sin(thet))+((((x_g*W)-(x_b*B))*cos(thet))*cos(phi))), (-(((((x_g*W)-(x_b*B))*cos(thet))*sin(phi))+(((y_g*W)-(y_b*B))*sin(thet))))])"
      ]
     },
     "execution_count": 13,
     "metadata": {},
     "output_type": "execute_result"
    }
   ],
   "source": [
    "# Hydrostatics of Submerged Vehicles\n",
    "# restoring forces\n",
    "\n",
    "g = SX(6, 1)\n",
    "\n",
    "g[0, 0] = (W - B)*sin(thet)\n",
    "g[1, 0] = -(W - B)*cos(thet)*sin(phi)\n",
    "g[2, 0] = -(W - B)*cos(thet)*cos(phi)\n",
    "g[3, 0] = -(y_g*W - y_b*B)*cos(thet)*cos(phi) + \\\n",
    "    (z_g*W - z_b*B)*cos(thet)*sin(phi)\n",
    "g[4, 0] = (z_g*W - z_b*B)*sin(thet) + (x_g*W - x_b*B)*cos(thet)*cos(phi)\n",
    "g[5, 0] = -(x_g*W - x_b*B)*cos(thet)*sin(phi) - (y_g*W - y_b*B)*sin(thet)\n",
    "# For neutrally buoyant vehicles W = B\n",
    "\n",
    "g"
   ]
  },
  {
   "cell_type": "code",
   "execution_count": 14,
   "metadata": {},
   "outputs": [
    {
     "data": {
      "text/plain": [
       "SX(@1=(((cos(psi)*sin(thet))*sin(phi))-(sin(psi)*cos(phi))), @2=((sin(psi)*cos(phi))+((cos(psi)*cos(phi))*sin(thet))), @3=((cos(psi)*cos(phi))+((sin(phi)*sin(thet))*sin(psi))), @4=(((sin(thet)*sin(psi))*sin(phi))-(cos(psi)*cos(phi))), @5=(cos(thet)*sin(phi)), @6=(cos(thet)*cos(phi)), @7=0, @8=(cos(psi)*cos(thet)), @9=(sin(psi)*cos(thet)), @10=sin(thet), \n",
       "[[((@1*w)-(@2*v)), ((@2*u)-(@8*w)), ((@8*v)-(@1*u)), @7, @7, @7], \n",
       " [((@3*w)-(@4*v)), ((@4*u)-(@9*w)), ((@9*v)-(@3*u)), @7, @7, @7], \n",
       " [((@5*w)-(@6*v)), ((@10*w)+(@6*u)), (-((@10*v)+(@5*u))), @7, @7, @7], \n",
       " [@7, @7, @7, ((@1*r)-(@2*q)), ((@2*p)-(@8*r)), ((@8*q)-(@1*p))], \n",
       " [@7, @7, @7, ((@3*r)-(@4*q)), ((@4*p)-(@9*r)), ((@9*q)-(@3*p))], \n",
       " [@7, @7, @7, ((@5*r)-(@6*q)), ((@10*r)+(@6*p)), (-((@10*q)+(@5*p)))]])"
      ]
     },
     "execution_count": 14,
     "metadata": {},
     "output_type": "execute_result"
    }
   ],
   "source": [
    "d_R = R@skew(v_nb)\n",
    "d_T = R@skew(w_nb)\n",
    "d_J = SX.zeros(6, 6)\n",
    "d_J[:3,:3] = d_R\n",
    "d_J[3:,3:] = d_T\n",
    "d_J"
   ]
  },
  {
   "cell_type": "code",
   "execution_count": 15,
   "metadata": {},
   "outputs": [],
   "source": [
    "M_ned = J_1.T@M@J_1\n",
    "\n",
    "# C_ned = J_1.T(C-M@J_1@d_J)@J_1\n",
    "g_ned = J_1.T@g\n",
    "# tau_ned = J_1.T@tau"
   ]
  },
  {
   "cell_type": "code",
   "execution_count": 16,
   "metadata": {},
   "outputs": [],
   "source": [
    "X_u = SX.sym('X_u') # Drag coefficient in surge\n",
    "Y_v = SX.sym('Y_v') # Drag coefficient in sway\n",
    "Z_w = SX.sym('Z_w') # Drag coefficient in heave\n",
    "K_p = SX.sym('K_p') # Drag coefficient in roll\n",
    "M_q = SX.sym('M_q') # Drag coefficient in pitch\n",
    "N_r = SX.sym('N_r') # Drag coefficient in yaw\n",
    "\n",
    "K_v = SX.sym('K_v') # coupled Drag coefficient in sway & roll\n",
    "N_v = SX.sym('N_v') # coupled Drag coefficient in sway & yaw\n",
    "M_w = SX.sym('M_w') # coupled Drag coefficient in pitch & heave\n",
    "Y_p = SX.sym('Y_p') # coupled Drag coefficient in sway & roll\n",
    "N_p = SX.sym('N_p') # coupled Drag coefficient in roll & yaw\n",
    "Z_q = SX.sym('Z_q') # coupled Drag coefficient in heave & pitch\n",
    "Y_r = SX.sym('Y_r') # coupled Drag coefficient in sway & yaw\n",
    "K_r = SX.sym('K_r') # coupled Drag coefficient in roll & yaw\n",
    "\n",
    "D = SX(6,6)\n",
    "D[0,0] = X_u\n",
    "D[1,1] = Y_v\n",
    "D[2,2] = Z_w\n",
    "D[3,3] = K_p\n",
    "D[4,4] = M_q\n",
    "D[5,5] = N_r"
   ]
  },
  {
   "cell_type": "code",
   "execution_count": 25,
   "metadata": {},
   "outputs": [
    {
     "data": {
      "text/plain": [
       "SX(@1=fabs(u), @2=fabs(v), @3=fabs(w), @4=fabs(p), @5=fabs(q), @6=fabs(r), @7=fabs(u), @8=fabs(v), @9=fabs(w), @10=fabs(p), @11=fabs(q), @12=fabs(r), @13=fabs(u), @14=fabs(v), @15=fabs(w), @16=fabs(p), @17=fabs(q), @18=fabs(r), @19=fabs(u), @20=fabs(v), @21=fabs(w), @22=fabs(p), @23=fabs(q), @24=fabs(r), @25=fabs(u), @26=fabs(v), @27=fabs(w), @28=fabs(p), @29=fabs(q), @30=fabs(r), @31=fabs(u), @32=fabs(v), @33=fabs(w), @34=fabs(p), @35=fabs(q), @36=fabs(r), [((((((((((((@1*Dn1_0)+(@2*Dn1_1))+(@3*Dn1_2))+(@4*Dn1_3))+(@5*Dn1_4))+(@6*Dn1_5))*u)+(((((((@1*Dn1_6)+(@2*Dn1_7))+(@3*Dn1_8))+(@4*Dn1_9))+(@5*Dn1_10))+(@6*Dn1_11))*v))+(((((((@1*Dn1_12)+(@2*Dn1_13))+(@3*Dn1_14))+(@4*Dn1_15))+(@5*Dn1_16))+(@6*Dn1_17))*w))+(((((((@1*Dn1_18)+(@2*Dn1_19))+(@3*Dn1_20))+(@4*Dn1_21))+(@5*Dn1_22))+(@6*Dn1_23))*p))+(((((((@1*Dn1_24)+(@2*Dn1_25))+(@3*Dn1_26))+(@4*Dn1_27))+(@5*Dn1_28))+(@6*Dn1_29))*q))+(((((((@1*Dn1_30)+(@2*Dn1_31))+(@3*Dn1_32))+(@4*Dn1_33))+(@5*Dn1_34))+(@6*Dn1_35))*r)), ((((((((((((@7*Dn2_0)+(@8*Dn2_1))+(@9*Dn2_2))+(@10*Dn2_3))+(@11*Dn2_4))+(@12*Dn2_5))*u)+(((((((@7*Dn2_6)+(@8*Dn2_7))+(@9*Dn2_8))+(@10*Dn2_9))+(@11*Dn2_10))+(@12*Dn2_11))*v))+(((((((@7*Dn2_12)+(@8*Dn2_13))+(@9*Dn2_14))+(@10*Dn2_15))+(@11*Dn2_16))+(@12*Dn2_17))*w))+(((((((@7*Dn2_18)+(@8*Dn2_19))+(@9*Dn2_20))+(@10*Dn2_21))+(@11*Dn2_22))+(@12*Dn2_23))*p))+(((((((@7*Dn2_24)+(@8*Dn2_25))+(@9*Dn2_26))+(@10*Dn2_27))+(@11*Dn2_28))+(@12*Dn2_29))*q))+(((((((@7*Dn2_30)+(@8*Dn2_31))+(@9*Dn2_32))+(@10*Dn2_33))+(@11*Dn2_34))+(@12*Dn2_35))*r)), ((((((((((((@13*Dn3_0)+(@14*Dn3_1))+(@15*Dn3_2))+(@16*Dn3_3))+(@17*Dn3_4))+(@18*Dn3_5))*u)+(((((((@13*Dn3_6)+(@14*Dn3_7))+(@15*Dn3_8))+(@16*Dn3_9))+(@17*Dn3_10))+(@18*Dn3_11))*v))+(((((((@13*Dn3_12)+(@14*Dn3_13))+(@15*Dn3_14))+(@16*Dn3_15))+(@17*Dn3_16))+(@18*Dn3_17))*w))+(((((((@13*Dn3_18)+(@14*Dn3_19))+(@15*Dn3_20))+(@16*Dn3_21))+(@17*Dn3_22))+(@18*Dn3_23))*p))+(((((((@13*Dn3_24)+(@14*Dn3_25))+(@15*Dn3_26))+(@16*Dn3_27))+(@17*Dn3_28))+(@18*Dn3_29))*q))+(((((((@13*Dn3_30)+(@14*Dn3_31))+(@15*Dn3_32))+(@16*Dn3_33))+(@17*Dn3_34))+(@18*Dn3_35))*r)), ((((((((((((@19*Dn4_0)+(@20*Dn4_1))+(@21*Dn4_2))+(@22*Dn4_3))+(@23*Dn4_4))+(@24*Dn4_5))*u)+(((((((@19*Dn4_6)+(@20*Dn4_7))+(@21*Dn4_8))+(@22*Dn4_9))+(@23*Dn4_10))+(@24*Dn4_11))*v))+(((((((@19*Dn4_12)+(@20*Dn4_13))+(@21*Dn4_14))+(@22*Dn4_15))+(@23*Dn4_16))+(@24*Dn4_17))*w))+(((((((@19*Dn4_18)+(@20*Dn4_19))+(@21*Dn4_20))+(@22*Dn4_21))+(@23*Dn4_22))+(@24*Dn4_23))*p))+(((((((@19*Dn4_24)+(@20*Dn4_25))+(@21*Dn4_26))+(@22*Dn4_27))+(@23*Dn4_28))+(@24*Dn4_29))*q))+(((((((@19*Dn4_30)+(@20*Dn4_31))+(@21*Dn4_32))+(@22*Dn4_33))+(@23*Dn4_34))+(@24*Dn4_35))*r)), ((((((((((((@25*Dn5_0)+(@26*Dn5_1))+(@27*Dn5_2))+(@28*Dn5_3))+(@29*Dn5_4))+(@30*Dn5_5))*u)+(((((((@25*Dn5_6)+(@26*Dn5_7))+(@27*Dn5_8))+(@28*Dn5_9))+(@29*Dn5_10))+(@30*Dn5_11))*v))+(((((((@25*Dn5_12)+(@26*Dn5_13))+(@27*Dn5_14))+(@28*Dn5_15))+(@29*Dn5_16))+(@30*Dn5_17))*w))+(((((((@25*Dn5_18)+(@26*Dn5_19))+(@27*Dn5_20))+(@28*Dn5_21))+(@29*Dn5_22))+(@30*Dn5_23))*p))+(((((((@25*Dn5_24)+(@26*Dn5_25))+(@27*Dn5_26))+(@28*Dn5_27))+(@29*Dn5_28))+(@30*Dn5_29))*q))+(((((((@25*Dn5_30)+(@26*Dn5_31))+(@27*Dn5_32))+(@28*Dn5_33))+(@29*Dn5_34))+(@30*Dn5_35))*r)), ((((((((((((@31*Dn6_0)+(@32*Dn6_1))+(@33*Dn6_2))+(@34*Dn6_3))+(@35*Dn6_4))+(@36*Dn6_5))*u)+(((((((@31*Dn6_6)+(@32*Dn6_7))+(@33*Dn6_8))+(@34*Dn6_9))+(@35*Dn6_10))+(@36*Dn6_11))*v))+(((((((@31*Dn6_12)+(@32*Dn6_13))+(@33*Dn6_14))+(@34*Dn6_15))+(@35*Dn6_16))+(@36*Dn6_17))*w))+(((((((@31*Dn6_18)+(@32*Dn6_19))+(@33*Dn6_20))+(@34*Dn6_21))+(@35*Dn6_22))+(@36*Dn6_23))*p))+(((((((@31*Dn6_24)+(@32*Dn6_25))+(@33*Dn6_26))+(@34*Dn6_27))+(@35*Dn6_28))+(@36*Dn6_29))*q))+(((((((@31*Dn6_30)+(@32*Dn6_31))+(@33*Dn6_32))+(@34*Dn6_33))+(@35*Dn6_34))+(@36*Dn6_35))*r))])"
      ]
     },
     "execution_count": 25,
     "metadata": {},
     "output_type": "execute_result"
    }
   ],
   "source": [
    "Dn1 = SX.sym('Dn1',6,6)\n",
    "Dn2 = SX.sym('Dn2',6,6)\n",
    "Dn3 = SX.sym('Dn3',6,6)\n",
    "Dn4 = SX.sym('Dn4',6,6)\n",
    "Dn5 = SX.sym('Dn5',6,6)\n",
    "Dn6 = SX.sym('Dn6',6,6)\n",
    "\n",
    "# Use a dictionary or list to access Dn variables dynamically\n",
    "Dn_vars = [Dn1, Dn2, Dn3, Dn4, Dn5, Dn6]\n",
    "\n",
    "# Compute the list using matrix operations\n",
    "Dn_list = [(fabs(x_nb).T @ Dn @ x_nb) for Dn in Dn_vars]\n",
    "\n",
    "# Concatenate the results vertically\n",
    "Dn = vertcat(*Dn_list)"
   ]
  },
  {
   "cell_type": "code",
   "execution_count": 32,
   "metadata": {},
   "outputs": [
    {
     "data": {
      "text/plain": [
       "(6, 1)"
      ]
     },
     "execution_count": 32,
     "metadata": {},
     "output_type": "execute_result"
    }
   ],
   "source": [
    "linear_damping = D@x_nb\n",
    "nonlinear_damping = Dn\n",
    "damping = linear_damping + nonlinear_damping\n",
    "\n",
    "damping.size()"
   ]
  },
  {
   "cell_type": "code",
   "execution_count": null,
   "metadata": {},
   "outputs": [],
   "source": []
  }
 ],
 "metadata": {
  "kernelspec": {
   "display_name": "Python 3",
   "language": "python",
   "name": "python3"
  },
  "language_info": {
   "codemirror_mode": {
    "name": "ipython",
    "version": 3
   },
   "file_extension": ".py",
   "mimetype": "text/x-python",
   "name": "python",
   "nbconvert_exporter": "python",
   "pygments_lexer": "ipython3",
   "version": "3.11.7"
  }
 },
 "nbformat": 4,
 "nbformat_minor": 2
}
