{
 "cells": [
  {
   "cell_type": "code",
   "execution_count": 1,
   "metadata": {},
   "outputs": [],
   "source": [
    "from diffUV import dyned_eul, dyn_body, kin\n",
    "from diffUV.utils.symbols import *\n",
    "from casadi import Function\n",
    "from blue_rov import Params as ps\n",
    "import numpy as np"
   ]
  },
  {
   "cell_type": "code",
   "execution_count": 2,
   "metadata": {},
   "outputs": [],
   "source": [
    "r_g = vertcat(x_g, y_g, z_g) # center of gravity wrt body origin\n",
    "r_b = vertcat(x_b, y_b, z_b) # center of buoyancy wrt body origin \n",
    "I_o = vertcat(I_x, I_y, I_z,I_xz) # rigid body inertia wrt body origin\n",
    "\n",
    "added_m = vertcat(X_du, Y_dv, Z_dw, K_dp, M_dq, N_dr) # added mass in diagonals\n",
    "coupling_added_m =  vertcat(X_dq, Y_dp, N_dp, M_du, K_dv) # effective added mass in non diagonals\n",
    "\n",
    "linear_dc = vertcat(X_u, Y_v, Z_w, K_p,  M_q, N_r) # linear damping coefficients\n",
    "quadratic_dc = vertcat(X_uu, Y_vv, Z_ww, K_pp, M_qq, N_rr) # quadratic damping coefficients\n",
    "\n",
    "n0 = vertcat(dx, dy, dz, thet, phi, psi, dphi, dthet, dpsi) # state variables wrt ned\n",
    "v0 = x_nb # velocity state variables wrt body"
   ]
  },
  {
   "cell_type": "markdown",
   "metadata": {},
   "source": [
    "<h1>Kinematics ned Transformation Matrix</h1>"
   ]
  },
  {
   "cell_type": "code",
   "execution_count": 3,
   "metadata": {},
   "outputs": [
    {
     "name": "stdout",
     "output_type": "stream",
     "text": [
      "@1=0, \n",
      "[[(cos(psi)*cos(phi)), (sin(psi)*cos(phi)), (-sin(phi)), @1, @1, @1], \n",
      " [(((cos(psi)*sin(phi))*sin(thet))-(sin(psi)*cos(thet))), ((cos(psi)*cos(thet))+((sin(thet)*sin(phi))*sin(psi))), (cos(phi)*sin(thet)), @1, @1, @1], \n",
      " [((sin(psi)*cos(thet))+((cos(psi)*cos(thet))*sin(phi))), (((sin(phi)*sin(psi))*sin(thet))-(cos(psi)*cos(thet))), (cos(phi)*cos(thet)), @1, @1, @1], \n",
      " [@1, @1, @1, 1, 00, (-sin(phi))], \n",
      " [@1, @1, @1, 00, cos(thet), (cos(phi)*sin(thet))], \n",
      " [@1, @1, @1, 00, (-sin(thet)), (cos(phi)*cos(thet))]]\n"
     ]
    }
   ],
   "source": [
    "Kinematics = kin()\n",
    "J = Kinematics.J\n",
    "J_inv = Kinematics.J_inv\n",
    "print(J_inv)\n",
    "Onb = vertcat(thet, phi, psi)\n",
    "J_inv_func = Function('J_inv', [Onb], [J_inv]) # for numerical & symbolic use"
   ]
  },
  {
   "cell_type": "code",
   "execution_count": 4,
   "metadata": {},
   "outputs": [
    {
     "data": {
      "text/plain": [
       "array([[ 0.98066095,  0.09839429, -0.16918235,  0.        ,  0.        ,\n",
       "         0.        ],\n",
       "       [-0.07716877,  0.98879774,  0.12776544,  0.        ,  0.        ,\n",
       "         0.        ],\n",
       "       [ 0.26590771, -0.98441869,  0.9772683 ,  0.        ,  0.        ,\n",
       "         0.        ],\n",
       "       [ 0.        ,  0.        ,  0.        ,  1.        ,  0.        ,\n",
       "        -0.16918235],\n",
       "       [ 0.        ,  0.        ,  0.        ,  0.        ,  0.99156189,\n",
       "         0.12776544],\n",
       "       [ 0.        ,  0.        ,  0.        ,  0.        , -0.12963414,\n",
       "         0.9772683 ]])"
      ]
     },
     "execution_count": 4,
     "metadata": {},
     "output_type": "execute_result"
    }
   ],
   "source": [
    "# example usage of J mat\n",
    "jinv = np.array(J_inv_func([0.13,0.17,0.1]))\n",
    "jinv"
   ]
  },
  {
   "cell_type": "markdown",
   "metadata": {},
   "source": [
    "<h1>System Inertia Matrix example</h1>"
   ]
  },
  {
   "cell_type": "code",
   "execution_count": 5,
   "metadata": {},
   "outputs": [],
   "source": [
    "# body representaion\n",
    "uv_body = dyn_body()\n",
    "inertia_mat = uv_body.body_inertia_matrix()\n",
    "M_func = Function('M_b', [m, I_o, z_g, added_m, coupling_added_m], [inertia_mat]) # for numerical & symbolic use"
   ]
  },
  {
   "cell_type": "code",
   "execution_count": 6,
   "metadata": {},
   "outputs": [
    {
     "data": {
      "text/plain": [
       "array([[17.  ,  0.  ,  0.  ,  0.  ,  0.23,  0.  ],\n",
       "       [ 0.  , 24.2 ,  0.  , -0.23,  0.  ,  0.  ],\n",
       "       [ 0.  ,  0.  , 26.07,  0.  ,  0.  ,  0.  ],\n",
       "       [ 0.  , -0.23,  0.  ,  0.28,  0.  ,  0.  ],\n",
       "       [ 0.23,  0.  ,  0.  ,  0.  ,  0.28,  0.  ],\n",
       "       [ 0.  ,  0.  ,  0.  , -0.  ,  0.  ,  0.28]])"
      ]
     },
     "execution_count": 6,
     "metadata": {},
     "output_type": "execute_result"
    }
   ],
   "source": [
    "# example usage of inertia mat\n",
    "M_mat = np.array(M_func(ps.m, ps.Io, ps.rg[2], ps.added_m, ps.coupl_added_m))\n",
    "M_mat"
   ]
  },
  {
   "cell_type": "code",
   "execution_count": 7,
   "metadata": {},
   "outputs": [],
   "source": [
    "# ned representaion\n",
    "uv_ned = dyned_eul()\n",
    "inertia_ned_mat = uv_ned.ned_euler_inertia_matrix()\n",
    "Onb = vertcat(thet, phi, psi)\n",
    "M_ned_func = Function('M_ned', [m, I_o, z_g, Onb, added_m, coupling_added_m], [inertia_ned_mat]) # for numerical & symbolic use"
   ]
  },
  {
   "cell_type": "code",
   "execution_count": 11,
   "metadata": {},
   "outputs": [
    {
     "data": {
      "text/plain": [
       "array([[ 1.83362708e+01, -7.03041061e+00,  3.71555407e+00,\n",
       "         1.77488172e-02,  2.23648786e-01,  2.58149654e-02],\n",
       "       [-7.03041061e+00,  4.90893516e+01, -2.23061182e+01,\n",
       "        -2.27423481e-01,  2.24397276e-02,  4.13674584e-02],\n",
       "       [ 3.71555407e+00, -2.23061182e+01,  2.57798665e+01,\n",
       "        -2.93860503e-02, -3.85835972e-02, -8.67361738e-19],\n",
       "       [ 1.77488172e-02, -2.27423481e-01, -2.93860503e-02,\n",
       "         2.80000000e-01,  0.00000000e+00, -4.73710577e-02],\n",
       "       [ 2.23648786e-01,  2.24397276e-02, -3.85835972e-02,\n",
       "         0.00000000e+00,  2.80000000e-01,  0.00000000e+00],\n",
       "       [ 2.58149654e-02,  4.13674584e-02,  8.67361738e-19,\n",
       "        -4.73710577e-02,  0.00000000e+00,  2.80000000e-01]])"
      ]
     },
     "execution_count": 11,
     "metadata": {},
     "output_type": "execute_result"
    }
   ],
   "source": [
    "# example usage of inertia mat in ned\n",
    "Onb_v = np.array([0.13,0.17,0.1])\n",
    "np.array(M_ned_func(ps.m, ps.Io, ps.rg[2], Onb_v,  ps.added_m, ps.coupl_added_m))"
   ]
  },
  {
   "cell_type": "code",
   "execution_count": 18,
   "metadata": {},
   "outputs": [
    {
     "data": {
      "text/plain": [
       "array([[ 1.83362708e+01, -7.03041061e+00,  3.71555407e+00,\n",
       "         1.77488172e-02,  2.23648786e-01,  2.58149654e-02],\n",
       "       [-7.03041061e+00,  4.90893516e+01, -2.23061182e+01,\n",
       "        -2.27423481e-01,  2.24397276e-02,  4.13674584e-02],\n",
       "       [ 3.71555407e+00, -2.23061182e+01,  2.57798665e+01,\n",
       "        -2.93860503e-02, -3.85835972e-02, -7.71263355e-19],\n",
       "       [ 1.77488172e-02, -2.27423481e-01, -2.93860503e-02,\n",
       "         2.80000000e-01,  0.00000000e+00, -4.73710577e-02],\n",
       "       [ 2.23648786e-01,  2.24397276e-02, -3.85835972e-02,\n",
       "         0.00000000e+00,  2.80000000e-01, -2.51507399e-18],\n",
       "       [ 2.58149654e-02,  4.13674584e-02,  7.71263355e-19,\n",
       "        -4.73710577e-02, -2.45961687e-18,  2.80000000e-01]])"
      ]
     },
     "execution_count": 18,
     "metadata": {},
     "output_type": "execute_result"
    }
   ],
   "source": [
    "# checks --> above results (inertia mat in ned using body inertia and J tansform)\n",
    "jinv.T@M_mat@jinv "
   ]
  },
  {
   "cell_type": "markdown",
   "metadata": {},
   "source": [
    "<h1>Forward dynamics simulation example</h1>"
   ]
  },
  {
   "cell_type": "code",
   "execution_count": 19,
   "metadata": {},
   "outputs": [],
   "source": [
    "uv_ned = dyned_eul()\n",
    "forward_dynamics = uv_ned.ned_euler_forward_dynamics()\n",
    "# forward_dynamics.size()\n",
    "\n",
    "fd_func = Function('f', [m, W, B, r_g, r_b, I_o, \n",
    "                   added_m, coupling_added_m, \n",
    "                   linear_dc, quadratic_dc,\n",
    "                   v0, n0, tau_b], [forward_dynamics])"
   ]
  },
  {
   "cell_type": "code",
   "execution_count": 20,
   "metadata": {},
   "outputs": [
    {
     "data": {
      "text/plain": [
       "DM([0.0594846, 4.16334e-17, -0.0767165, 2.34535e-15, -0.0488624, 0])"
      ]
     },
     "execution_count": 20,
     "metadata": {},
     "output_type": "execute_result"
    }
   ],
   "source": [
    "# example usage of forward dynamics\n",
    "tau = np.array([1,0,0,0,0,0])\n",
    "v0_v = np.array([0, 0, 0 ,0 ,0, 0])\n",
    "n0_v = np.array([0, 0, 0, 0, 0, 0, 0, 0, 0])\n",
    "fd_func(ps.m, ps.W, ps.B, ps.rg, ps.rb, ps.Io, ps.added_m, ps.coupl_added_m, ps.linear_dc,ps.quadratic_dc,v0_v,  n0_v,  tau)"
   ]
  }
 ],
 "metadata": {
  "kernelspec": {
   "display_name": ".venv",
   "language": "python",
   "name": "python3"
  },
  "language_info": {
   "codemirror_mode": {
    "name": "ipython",
    "version": 3
   },
   "file_extension": ".py",
   "mimetype": "text/x-python",
   "name": "python",
   "nbconvert_exporter": "python",
   "pygments_lexer": "ipython3",
   "version": "3.11.7"
  }
 },
 "nbformat": 4,
 "nbformat_minor": 2
}
