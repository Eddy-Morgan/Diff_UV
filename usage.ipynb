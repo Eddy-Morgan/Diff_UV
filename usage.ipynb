{
 "cells": [
  {
   "cell_type": "code",
   "execution_count": 1,
   "metadata": {},
   "outputs": [],
   "source": [
    "from diffUV import dyned_eul, dyn_body, kin, dyned_quat\n",
    "from diffUV.utils.symbols import *\n",
    "from casadi import *\n",
    "from blue_rov import Params as ps\n",
    "import numpy as np\n",
    "import os\n",
    "from scipy.spatial.transform import Rotation as R"
   ]
  },
  {
   "cell_type": "code",
   "execution_count": 2,
   "metadata": {},
   "outputs": [],
   "source": [
    "r_g = vertcat(x_g, y_g, z_g) # center of gravity wrt body origin\n",
    "r_b = vertcat(x_b, y_b, z_b) # center of buoyancy wrt body origin \n",
    "I_o = vertcat(I_x, I_y, I_z,I_xz) # rigid body inertia wrt body origin\n",
    "\n",
    "decoupled_added_m = vertcat(X_du, Y_dv, Z_dw, K_dp, M_dq, N_dr) # added mass in diagonals\n",
    "coupled_added_m =  vertcat(X_dq, Y_dp, N_dp, M_du, K_dv) # effective added mass in non diagonals\n",
    "\n",
    "linear_dc = vertcat(X_u, Y_v, Z_w, K_p,  M_q, N_r) # linear damping coefficients\n",
    "quadratic_dc = vertcat(X_uu, Y_vv, Z_ww, K_pp, M_qq, N_rr) # quadratic damping coefficients\n",
    "\n",
    "n0 = vertcat(n, dn) # state variables wrt ned\n",
    "v0 = x_nb # velocity state variables wrt body"
   ]
  },
  {
   "cell_type": "markdown",
   "metadata": {},
   "source": [
    "<h1>Kinematics ned Transformation Matrix</h1>"
   ]
  },
  {
   "cell_type": "code",
   "execution_count": 3,
   "metadata": {},
   "outputs": [
    {
     "name": "stdout",
     "output_type": "stream",
     "text": [
      "@1=0, \n",
      "[[(cos(psi)*cos(phi)), (sin(psi)*cos(phi)), (-sin(phi)), @1, @1, @1], \n",
      " [(((cos(psi)*sin(phi))*sin(thet))-(sin(psi)*cos(thet))), ((cos(psi)*cos(thet))+((sin(thet)*sin(phi))*sin(psi))), (cos(phi)*sin(thet)), @1, @1, @1], \n",
      " [((sin(psi)*sin(thet))+((cos(psi)*cos(thet))*sin(phi))), (((sin(phi)*sin(psi))*cos(thet))-(cos(psi)*sin(thet))), (cos(phi)*cos(thet)), @1, @1, @1], \n",
      " [@1, @1, @1, 1, 00, (-sin(phi))], \n",
      " [@1, @1, @1, 00, cos(thet), (cos(phi)*sin(thet))], \n",
      " [@1, @1, @1, 00, (-sin(thet)), (cos(phi)*cos(thet))]]\n"
     ]
    }
   ],
   "source": [
    "Kinematics = kin()\n",
    "Jk = Kinematics.J\n",
    "J_inv = Kinematics.J_inv\n",
    "print(J_inv)\n",
    "J_inv_func = Function('J_inv', [eul], [J_inv]) # for numerical & symbolic use"
   ]
  },
  {
   "cell_type": "code",
   "execution_count": 4,
   "metadata": {},
   "outputs": [
    {
     "data": {
      "text/plain": [
       "array([[ 0.98066095,  0.09839429, -0.16918235,  0.        ,  0.        ,\n",
       "         0.        ],\n",
       "       [-0.07716877,  0.98879774,  0.12776544,  0.        ,  0.        ,\n",
       "         0.        ],\n",
       "       [ 0.17985851, -0.11223898,  0.9772683 ,  0.        ,  0.        ,\n",
       "         0.        ],\n",
       "       [ 0.        ,  0.        ,  0.        ,  1.        ,  0.        ,\n",
       "        -0.16918235],\n",
       "       [ 0.        ,  0.        ,  0.        ,  0.        ,  0.99156189,\n",
       "         0.12776544],\n",
       "       [ 0.        ,  0.        ,  0.        ,  0.        , -0.12963414,\n",
       "         0.9772683 ]])"
      ]
     },
     "execution_count": 4,
     "metadata": {},
     "output_type": "execute_result"
    }
   ],
   "source": [
    "# example usage of J mat\n",
    "jinv = np.array(J_inv_func([0.13,0.17,0.1]))\n",
    "jinv"
   ]
  },
  {
   "cell_type": "code",
   "execution_count": 5,
   "metadata": {},
   "outputs": [],
   "source": [
    "# body representaion\n",
    "uv_body = dyn_body()\n",
    "\n",
    "# ned representaion\n",
    "uv_ned = dyned_eul()\n",
    "\n",
    "# quaternion representation\n",
    "uv_quat = dyned_quat()"
   ]
  },
  {
   "cell_type": "code",
   "execution_count": 6,
   "metadata": {},
   "outputs": [
    {
     "data": {
      "text/plain": [
       "SX([u, v, w, p, q, r])"
      ]
     },
     "execution_count": 6,
     "metadata": {},
     "output_type": "execute_result"
    }
   ],
   "source": [
    "x_nb"
   ]
  },
  {
   "cell_type": "code",
   "execution_count": 7,
   "metadata": {},
   "outputs": [],
   "source": [
    "\n",
    "def linear_vel_R(eul):\n",
    "    phi = eul[2]\n",
    "    thet = eul[1]\n",
    "    psi = eul[0]\n",
    "    R = np.zeros((3,3))\n",
    "    R[0,0] = np.cos(psi)*np.cos(thet)\n",
    "    R[0,1] = -np.sin(psi)*np.cos(phi) + np.cos(psi)*np.sin(thet)*np.sin(phi)\n",
    "    R[0,2] = np.sin(psi)*np.sin(phi) + np.cos(psi)*np.cos(phi)*np.sin(thet)\n",
    "\n",
    "    R[1,0] = np.sin(psi)*np.cos(thet)\n",
    "    R[1,1] = np.cos(psi)*np.cos(phi) + np.sin(phi)*np.sin(thet)*np.sin(psi)\n",
    "    R[1,2] = -np.cos(psi)*np.sin(phi) + np.sin(thet)*np.sin(psi)*np.cos(phi)\n",
    "\n",
    "    R[2,0] = -np.sin(thet)\n",
    "    R[2,1] = np.cos(thet)*np.sin(phi)\n",
    "    R[2,2] = np.cos(thet)*np.cos(phi)\n",
    "    return R"
   ]
  },
  {
   "cell_type": "code",
   "execution_count": 8,
   "metadata": {},
   "outputs": [],
   "source": [
    "def linear_vel_Rq(uq):\n",
    "    eps1 = uq[0]\n",
    "    eps2 = uq[1]\n",
    "    eps3 = uq[2]\n",
    "    eta = uq[3]\n",
    "\n",
    "    Rq = np.zeros((3,3))\n",
    "    Rq[0,0] = 1 - 2*(eps2**2 + eps3**2)\n",
    "    Rq[0,1] = 2*(eps1*eps2 - eps3*eta)\n",
    "    Rq[0,2] = 2*(eps1*eps3 + eps2*eta)\n",
    "    Rq[1,0] = 2*(eps1*eps2 + eps3*eta)\n",
    "    Rq[1,1] = 1 - 2*(eps1**2 + eps3**2)\n",
    "    Rq[1,2] = 2*(eps2*eps3 - eps1*eta)\n",
    "    Rq[2,0] = 2*(eps1*eps3 - eps2*eta)\n",
    "    Rq[2,1] = 2*(eps2*eps3 + eps1*eta)\n",
    "    Rq[2,2] = 1 - 2*(eps1**2 + eps2**2)\n",
    "    return Rq"
   ]
  },
  {
   "cell_type": "code",
   "execution_count": 16,
   "metadata": {},
   "outputs": [
    {
     "name": "stdout",
     "output_type": "stream",
     "text": [
      "[0.         0.         0.13052619 0.99144486]\n"
     ]
    },
    {
     "data": {
      "text/plain": [
       "(DM(\n",
       " [[1, 0, 0], \n",
       "  [0, 0.965926, -0.258819], \n",
       "  [-0, 0.258819, 0.965926]]),\n",
       " DM(\n",
       " [[-1, 0, 0], \n",
       "  [0, -0.965926, 0.258819], \n",
       "  [0, 0.258819, 0.965926]]),\n",
       " DM(\n",
       " [[1, 0, 0], \n",
       "  [0, 0.965926, -0.258819], \n",
       "  [-0, 0.258819, 0.965926]]),\n",
       " array([[ 0.96592583, -0.25881905,  0.        ],\n",
       "        [ 0.25881905,  0.96592583,  0.        ],\n",
       "        [ 0.        ,  0.        ,  1.        ]]),\n",
       " array([[ 0.96592583, -0.25881905,  0.        ],\n",
       "        [ 0.25881905,  0.96592583,  0.        ],\n",
       "        [-0.        ,  0.        ,  1.        ]]))"
      ]
     },
     "execution_count": 16,
     "metadata": {},
     "output_type": "execute_result"
    }
   ],
   "source": [
    "# state transformations\n",
    "J_ = uv_ned.J\n",
    "Jq_ = uv_quat.J\n",
    "\n",
    "J_func = Function('J_', [eul], [J_[:3,:3]])\n",
    "Jq_func = Function('Jq_', [uq], [Jq_[:3,:3]])\n",
    "Jk_func = Function('J', [eul], [Jk[:3,:3]]) # for numerical & symbolic use\n",
    "\n",
    "# x_nb_v = np.array([0.5, 0.5, 0.5, 0, 0, 0])\n",
    "r = R.from_euler(\"ZYX\", (15, 0, 0), degrees=True)\n",
    "eul_v = r.as_euler(\"ZYX\")\n",
    "uq_v = r.as_quat()\n",
    "\n",
    "print(uq_v)\n",
    "# eul_v\n",
    "# uq_v\n",
    "\n",
    "# linear_vel_R(eul_v) , r.as_matrix(), linear_vel_Rq(uq_v)\n",
    "\n",
    "J_func(eul_v), Jq_func(uq_v) , Jk_func(eul_v) , r.as_matrix(), linear_vel_R(eul_v)"
   ]
  },
  {
   "cell_type": "markdown",
   "metadata": {},
   "source": [
    "<h1>System Inertia Matrix example</h1>"
   ]
  },
  {
   "cell_type": "code",
   "execution_count": 7,
   "metadata": {},
   "outputs": [],
   "source": [
    "inertia_mat = uv_body.body_inertia_matrix()\n",
    "M_func = Function('M_b', [m, I_o, z_g, decoupled_added_m, coupled_added_m], [inertia_mat]) # for numerical & symbolic use"
   ]
  },
  {
   "cell_type": "code",
   "execution_count": 8,
   "metadata": {},
   "outputs": [
    {
     "data": {
      "text/plain": [
       "0"
      ]
     },
     "execution_count": 8,
     "metadata": {},
     "output_type": "execute_result"
    }
   ],
   "source": [
    "# c , cpp or matlab code generation\n",
    "M_func = Function('M_b', [m, I_o, z_g, decoupled_added_m, coupled_added_m], [inertia_mat]) # for both numerical & symbolic use\n",
    "M_func.generate(\"M_b.c\")\n",
    "os.system(f\"gcc -fPIC -shared M_b.c -o libM_b.so\")"
   ]
  },
  {
   "cell_type": "code",
   "execution_count": 9,
   "metadata": {},
   "outputs": [
    {
     "data": {
      "text/plain": [
       "array([[17.  ,  0.  ,  0.  ,  0.  ,  0.23,  0.  ],\n",
       "       [ 0.  , 24.2 ,  0.  , -0.23,  0.  ,  0.  ],\n",
       "       [ 0.  ,  0.  , 26.07,  0.  ,  0.  ,  0.  ],\n",
       "       [ 0.  , -0.23,  0.  ,  0.28,  0.  ,  0.  ],\n",
       "       [ 0.23,  0.  ,  0.  ,  0.  ,  0.28,  0.  ],\n",
       "       [ 0.  ,  0.  ,  0.  , -0.  ,  0.  ,  0.28]])"
      ]
     },
     "execution_count": 9,
     "metadata": {},
     "output_type": "execute_result"
    }
   ],
   "source": [
    "# example usage of inertia mat\n",
    "M_mat = np.array(M_func(ps.m, ps.Io, ps.rg[2], ps.added_m, ps.coupl_added_m))\n",
    "M_mat"
   ]
  },
  {
   "cell_type": "code",
   "execution_count": 10,
   "metadata": {},
   "outputs": [],
   "source": [
    "inertia_ned_mat = uv_ned.ned_euler_inertia_matrix()\n",
    "Onb = vertcat(thet, phi, psi)\n",
    "M_ned_func = Function('M_ned', [m, I_o, z_g, Onb, decoupled_added_m, coupled_added_m], [inertia_ned_mat]) # for numerical & symbolic use"
   ]
  },
  {
   "cell_type": "code",
   "execution_count": 11,
   "metadata": {},
   "outputs": [
    {
     "data": {
      "text/plain": [
       "array([[ 1.83362708e+01, -7.03041061e+00,  3.71555407e+00,\n",
       "         1.77488172e-02,  2.23648786e-01,  2.58149654e-02],\n",
       "       [-7.03041061e+00,  4.90893516e+01, -2.23061182e+01,\n",
       "        -2.27423481e-01,  2.24397276e-02,  4.13674584e-02],\n",
       "       [ 3.71555407e+00, -2.23061182e+01,  2.57798665e+01,\n",
       "        -2.93860503e-02, -3.85835972e-02, -8.67361738e-19],\n",
       "       [ 1.77488172e-02, -2.27423481e-01, -2.93860503e-02,\n",
       "         2.80000000e-01,  0.00000000e+00, -4.73710577e-02],\n",
       "       [ 2.23648786e-01,  2.24397276e-02, -3.85835972e-02,\n",
       "         0.00000000e+00,  2.80000000e-01,  0.00000000e+00],\n",
       "       [ 2.58149654e-02,  4.13674584e-02,  8.67361738e-19,\n",
       "        -4.73710577e-02,  0.00000000e+00,  2.80000000e-01]])"
      ]
     },
     "execution_count": 11,
     "metadata": {},
     "output_type": "execute_result"
    }
   ],
   "source": [
    "# example usage of inertia mat in ned\n",
    "Onb_v = np.array([0.13,0.17,0.1])\n",
    "np.array(M_ned_func(ps.m, ps.Io, ps.rg[2], Onb_v,  ps.added_m, ps.coupl_added_m))"
   ]
  },
  {
   "cell_type": "code",
   "execution_count": 12,
   "metadata": {},
   "outputs": [
    {
     "data": {
      "text/plain": [
       "array([[ 1.83362708e+01, -7.03041061e+00,  3.71555407e+00,\n",
       "         1.77488172e-02,  2.23648786e-01,  2.58149654e-02],\n",
       "       [-7.03041061e+00,  4.90893516e+01, -2.23061182e+01,\n",
       "        -2.27423481e-01,  2.24397276e-02,  4.13674584e-02],\n",
       "       [ 3.71555407e+00, -2.23061182e+01,  2.57798665e+01,\n",
       "        -2.93860503e-02, -3.85835972e-02, -7.71263355e-19],\n",
       "       [ 1.77488172e-02, -2.27423481e-01, -2.93860503e-02,\n",
       "         2.80000000e-01,  0.00000000e+00, -4.73710577e-02],\n",
       "       [ 2.23648786e-01,  2.24397276e-02, -3.85835972e-02,\n",
       "         0.00000000e+00,  2.80000000e-01, -2.51507399e-18],\n",
       "       [ 2.58149654e-02,  4.13674584e-02,  7.71263355e-19,\n",
       "        -4.73710577e-02, -2.45961687e-18,  2.80000000e-01]])"
      ]
     },
     "execution_count": 12,
     "metadata": {},
     "output_type": "execute_result"
    }
   ],
   "source": [
    "# checks --> above results (inertia mat in ned using body inertia and J tansform)\n",
    "jinv.T@M_mat@jinv "
   ]
  },
  {
   "cell_type": "markdown",
   "metadata": {},
   "source": [
    "<h1>Forward dynamics simulation example</h1>"
   ]
  },
  {
   "cell_type": "code",
   "execution_count": 13,
   "metadata": {},
   "outputs": [
    {
     "name": "stdout",
     "output_type": "stream",
     "text": [
      "@1=(cos(psi)*cos(phi)), @2=(m-X_du), @3=(@1*@2), @4=(((cos(psi)*sin(phi))*sin(thet))-(sin(psi)*cos(thet))), @5=(m-Y_dv), @6=(@4*@5), @7=((sin(psi)*cos(thet))+((cos(psi)*cos(thet))*sin(phi))), @8=(m-Z_dw), @9=(@7*@8), @10=(sin(psi)*cos(phi)), @11=(@10*@2), @12=((cos(psi)*cos(thet))+((sin(thet)*sin(phi))*sin(psi))), @13=(@12*@5), @14=(((sin(phi)*sin(psi))*sin(thet))-(cos(psi)*cos(thet))), @15=(@14*@8), @16=(cos(phi)*sin(thet)), @17=(@16*@5), @18=sin(phi), @19=(@18*@2), @20=(cos(phi)*cos(thet)), @21=(@20*@8), @22=((m*z_g)+K_dv), @23=cos(thet), @24=((m*z_g)-M_du), @25=(@23*@24), @26=(cos(phi)*sin(thet)), @27=(@26*@24), @28=sin(phi), @29=(@28*@22), @30=((m*z_g)+Y_dp), @31=(@4*@30), @32=(@12*@30), @33=(@16*@30), @34=(I_x-K_dp), @35=sin(thet), @36=(I_xz+N_dp), @37=(@35*@36), @38=(cos(phi)*cos(thet)), @39=((@28*@34)+(@38*@36)), @40=((m*z_g)-X_dq), @41=(@1*@40), @42=(@10*@40), @43=(@18*@40), @44=(I_y-M_dq), @45=(@23*@44), @46=(I_z-N_dr), @47=(@35*@46), @48=(@26*@44), @49=(@38*@46), \n",
      "[[(((@3*@1)+(@6*@4))+(@9*@7)), (((@3*@10)+(@6*@12))+(@9*@14)), (((@6*@16)-(@3*@18))+(@9*@20)), (-@31), (@41*@23), ((@31*@28)+(@41*@26))], \n",
      " [(((@11*@1)+(@13*@4))+(@15*@7)), (((@11*@10)+(@13*@12))+(@15*@14)), (((@13*@16)-(@11*@18))+(@15*@20)), (-@32), (@42*@23), ((@32*@28)+(@42*@26))], \n",
      " [(((@17*@4)-(@19*@1))+(@21*@7)), (((@17*@12)-(@19*@10))+(@21*@14)), (((@19*@18)+(@17*@16))+(@21*@20)), (-@33), (-(@43*@23)), ((@33*@28)-(@43*@26))], \n",
      " [(-(@22*@4)), (-(@22*@12)), (-(@22*@16)), @34, 0, (-(@34*@28))], \n",
      " [(@25*@1), (@25*@10), (-(@25*@18)), @37, ((@45*@23)+(@47*@35)), (((@45*@26)-(@37*@28))-(@47*@38))], \n",
      " [((@27*@1)+(@29*@4)), ((@27*@10)+(@29*@12)), ((@29*@16)-(@27*@18)), (-@39), ((@48*@23)-(@49*@35)), (((@39*@28)+(@48*@26))+(@49*@38))]]\n",
      "(6, 6)\n"
     ]
    }
   ],
   "source": [
    "#euler\n",
    "forward_dynamics = uv_ned.ned_euler_forward_dynamics()\n",
    "print(forward_dynamics)\n",
    "print(forward_dynamics.size())\n",
    "fd_func = Function('f', [m, W, B, r_g, r_b, I_o, \n",
    "                   decoupled_added_m, coupled_added_m, \n",
    "                   linear_dc, quadratic_dc,\n",
    "                   v0, n0, tau_b], [forward_dynamics])"
   ]
  },
  {
   "cell_type": "code",
   "execution_count": 14,
   "metadata": {},
   "outputs": [
    {
     "name": "stdout",
     "output_type": "stream",
     "text": [
      "@1=1, @2=2, @3=(@1-(@2*(sq(eps2)+sq(eps3)))), @4=(m-X_du), @5=(@3*@4), @6=(@2*((eps1*eps2)-(eps3*eta))), @7=(m-Y_dv), @8=(@6*@7), @9=(@2*((eps1*eps3)+(eps2*eta))), @10=(m-Z_dw), @11=(@9*@10), @12=(@2*((eps1*eps2)+(eps3*eta))), @13=(@12*@4), @14=(@1-(@2*(sq(eps1)+sq(eps3)))), @15=(@14*@7), @16=(@2*((eps2*eps3)-(eps1*eta))), @17=(@16*@10), @18=(@2*((eps1*eps3)-(eps2*eta))), @19=(@18*@4), @20=(@2*((eps2*eps3)+(eps1*eta))), @21=(@20*@7), @22=(@1-(@2*(sq(eps1)+sq(eps2)))), @23=(@22*@10), @24=4, @25=0.5, @26=(@24*(@25*eps1)), @27=((m*z_g)+K_dv), @28=(@26*@27), @29=(@24*(@25*eps2)), @30=((m*z_g)-M_du), @31=(@29*@30), @32=(@24*(@25*eps3)), @33=(@32*@30), @34=(@24*(@25*eta)), @35=(@34*@27), @36=(@24*(@25*eta)), @37=(@36*@30), @38=(@24*(@25*eps3)), @39=(@38*@27), @40=(@24*(@25*eps1)), @41=(@40*@30), @42=(@24*(@25*eps2)), @43=(@42*@27), @44=((m*z_g)+Y_dp), @45=(@6*@44), @46=((m*z_g)-X_dq), @47=(@3*@46), @48=(@14*@44), @49=(@12*@46), @50=(@20*@44), @51=(@18*@46), @52=(I_y-M_dq), @53=(@29*@52), @54=(@24*(@25*eps3)), @55=(I_xz+N_dp), @56=(I_x-K_dp), @57=((@54*@55)-(@26*@56)), @58=(I_z-N_dr), @59=(@54*@58), @60=(@32*@52), @61=(@24*(@25*eps2)), @62=((@34*@56)-(@61*@55)), @63=(@61*@58), @64=(@24*(@25*eps1)), @65=(@64*@58), @66=((@38*@56)+(@64*@55)), @67=(@36*@52), @68=(@24*(@25*eta)), @69=((@42*@56)+(@68*@55)), @70=(@40*@52), @71=(@68*@58), \n",
      "[[(((@5*@3)+(@8*@6))+(@11*@9)), (((@5*@12)+(@8*@14))+(@11*@16)), (((@5*@18)+(@8*@20))+(@11*@22)), ((@45*@26)-(@47*@29)), (-((@45*@34)+(@47*@32))), ((@47*@36)-(@45*@38)), ((@45*@42)+(@47*@40))], \n",
      " [(((@13*@3)+(@15*@6))+(@17*@9)), (((@13*@12)+(@15*@14))+(@17*@16)), (((@13*@18)+(@15*@20))+(@17*@22)), ((@48*@26)-(@49*@29)), (-((@48*@34)+(@49*@32))), ((@49*@36)-(@48*@38)), ((@48*@42)+(@49*@40))], \n",
      " [(((@19*@3)+(@21*@6))+(@23*@9)), (((@19*@12)+(@21*@14))+(@23*@16)), (((@19*@18)+(@21*@20))+(@23*@22)), ((@50*@26)-(@51*@29)), (-((@50*@34)+(@51*@32))), ((@51*@36)-(@50*@38)), ((@50*@42)+(@51*@40))], \n",
      " [((@28*@6)-(@31*@3)), ((@28*@14)-(@31*@12)), ((@28*@20)-(@31*@18)), (((@53*@29)-(@57*@26))+(@59*@54)), (((@57*@34)+(@53*@32))-(@59*@61)), (((@57*@38)-(@53*@36))+(@59*@64)), (-(((@57*@42)+(@53*@40))+(@59*@68)))], \n",
      " [(-((@33*@3)+(@35*@6))), (-((@33*@12)+(@35*@14))), (-((@33*@18)+(@35*@20))), (((@60*@29)-(@62*@26))-(@63*@54)), (((@62*@34)+(@60*@32))+(@63*@61)), (((@62*@38)-(@60*@36))-(@63*@64)), ((@63*@68)-((@62*@42)+(@60*@40)))], \n",
      " [((@37*@3)-(@39*@6)), ((@37*@12)-(@39*@14)), ((@37*@18)-(@39*@20)), ((@65*@54)-((@66*@26)+(@67*@29))), (((@66*@34)-(@67*@32))-(@65*@61)), (((@66*@38)+(@67*@36))+(@65*@64)), (((@67*@40)-(@66*@42))-(@65*@68))], \n",
      " [((@41*@3)+(@43*@6)), ((@41*@12)+(@43*@14)), ((@41*@18)+(@43*@20)), (((@69*@26)-(@70*@29))-(@71*@54)), ((@71*@61)-((@69*@34)+(@70*@32))), (((@70*@36)-(@69*@38))-(@71*@64)), (((@69*@42)+(@70*@40))+(@71*@68))]]\n",
      "(7, 7)\n"
     ]
    }
   ],
   "source": [
    "# quaternion\n",
    "forward_dynamics_q = uv_quat.forward_dynamics_ned_quat()\n",
    "print(forward_dynamics_q)\n",
    "print(forward_dynamics_q.size())\n",
    "fdq_func = Function('fq', [m, W, B, r_g, r_b, I_o,\n",
    "                           decoupled_added_m, coupled_added_m,\n",
    "                           linear_dc, quadratic_dc,\n",
    "                           v0, n, uq, tau_b], [forward_dynamics_q])"
   ]
  },
  {
   "cell_type": "code",
   "execution_count": 13,
   "metadata": {},
   "outputs": [
    {
     "data": {
      "text/plain": [
       "DM(\n",
       "[[17, 0, 0, 0, 0.46, -0, 0], \n",
       " [0, 24.2, 0, -0, -0, 0.46, 0], \n",
       " [0, 0, 26.07, 0, -0, 0, 0], \n",
       " [0, -0, 0, 1.12, 0, 0, -0], \n",
       " [0.46, -0, -0, 0, 1.12, 0, 0], \n",
       " [-0, 0.46, 0, 0, 0, 1.12, 0], \n",
       " [0, 0, 0, 0, 0, 0, 0]])"
      ]
     },
     "execution_count": 13,
     "metadata": {},
     "output_type": "execute_result"
    }
   ],
   "source": [
    "# example usage of forward dynamics in quaternion\n",
    "tau = np.array([0.0,0,0,0,0,0])\n",
    "v0_v = np.array([0, 0, 0 ,0 ,0, 0])\n",
    "n_v = np.array([0, 0, 0, 0, 0, 0])\n",
    "uq_v = np.array([0, 0, 0, 1])\n",
    "fdq_func(ps.m, ps.W, ps.B, ps.rg, ps.rb, ps.Io, ps.added_m, ps.coupl_added_m, ps.linear_dc,ps.quadratic_dc, v0_v,  n_v, uq_v, tau)"
   ]
  },
  {
   "cell_type": "code",
   "execution_count": 14,
   "metadata": {},
   "outputs": [
    {
     "data": {
      "text/plain": [
       "DM(\n",
       "[[17, 0, 0, -0, 0.23, 0], \n",
       " [0, 50.27, -26.07, -0.23, 0, 0], \n",
       " [0, -26.07, 26.07, -0, -0, 0], \n",
       " [-0, -0.23, -0, 0.28, 0, -0], \n",
       " [0.23, 0, -0, 0, 0.28, 0], \n",
       " [0, 0, 0, -0, 0, 0.28]])"
      ]
     },
     "execution_count": 14,
     "metadata": {},
     "output_type": "execute_result"
    }
   ],
   "source": [
    "# example usage of forward dynamics\n",
    "tau = np.array([0.0,0,0,0,0,0])\n",
    "v0_v = np.array([0, 0, 0 ,0 ,0, 0])\n",
    "n0_v = np.array([0, 0, 0, 0, 0, 0, 0, 0, 0, 0, 0, 0])\n",
    "fd_func(ps.m, ps.W, ps.B, ps.rg, ps.rb, ps.Io, ps.added_m, ps.coupl_added_m, ps.linear_dc,ps.quadratic_dc, v0_v,  n0_v,  tau)"
   ]
  },
  {
   "cell_type": "code",
   "execution_count": 14,
   "metadata": {},
   "outputs": [],
   "source": [
    "# forward dynamics for integrator\n",
    "v0_n = J_inv@dn\n",
    "\n",
    "ode_q_dot = dn\n",
    "ode_q_ddot = fd_func(ps.m, ps.W, ps.B, ps.rg, ps.rb, ps.Io, ps.added_m, ps.coupl_added_m, ps.linear_dc,ps.quadratic_dc, v0_n, n0, tau_b)\n",
    "ode = vertcat(ode_q_dot, ode_q_ddot) #the complete ODE vector\n",
    "f_ode = Function('Odefunc', [n0, tau_b], [ode])"
   ]
  },
  {
   "cell_type": "code",
   "execution_count": 15,
   "metadata": {},
   "outputs": [
    {
     "name": "stderr",
     "output_type": "stream",
     "text": [
      "CasADi - 2024-06-13 18:12:28 WARNING(\"The options 't0', 'tf', 'grid' and 'output_t0' have been deprecated.\n",
      "The same functionality is provided by providing additional input arguments to the 'integrator' function, in particular:\n",
      " * Call integrator(..., t0, tf, options) for a single output time, or\n",
      " * Call integrator(..., t0, grid, options) for multiple grid points.\n",
      "The legacy 'output_t0' option can be emulated by including or excluding 't0' in 'grid'.\n",
      "Backwards compatibility is provided in this release only.\") [.../casadi/core/integrator.cpp:521]\n"
     ]
    }
   ],
   "source": [
    "T = 10 # time horizon\n",
    "N = 20 # number of control intervals\n",
    "\n",
    "# integrator to discretize the system\n",
    "dae = {'x':n0, 'p':tau_b, 'ode':f_ode(n0,tau_b)}\n",
    "intg = integrator('intg', 'rk', dae, {'tf':T/N, 'number_of_finite_elements':4, 'simplify':True})"
   ]
  },
  {
   "cell_type": "code",
   "execution_count": 16,
   "metadata": {},
   "outputs": [],
   "source": [
    "res = intg(x0=n0,p=tau_b) #evaluate with symbols\n",
    "x_next = res['xf'] "
   ]
  },
  {
   "cell_type": "code",
   "execution_count": 17,
   "metadata": {},
   "outputs": [],
   "source": [
    "# Simplify API to (x,u)->(x_next)\n",
    "F = Function('F',[n0,tau_b],[x_next])"
   ]
  },
  {
   "cell_type": "code",
   "execution_count": 27,
   "metadata": {},
   "outputs": [
    {
     "data": {
      "text/plain": [
       "DM([0.202826, -0.15293, -0.000726845])"
      ]
     },
     "execution_count": 27,
     "metadata": {},
     "output_type": "execute_result"
    }
   ],
   "source": [
    "tau = np.array([0.0001, 0.0, 0.0, 0.0, 0.0, 0.0])\n",
    "# n0_v = np.array([0, 0, 0, 0, 0, 0, 0, 0, 0, 0, 0, 0])\n",
    "n0_v = F(n0_v, tau)\n",
    "n0_v[3:6]"
   ]
  },
  {
   "cell_type": "code",
   "execution_count": null,
   "metadata": {},
   "outputs": [],
   "source": []
  },
  {
   "cell_type": "code",
   "execution_count": null,
   "metadata": {},
   "outputs": [],
   "source": []
  }
 ],
 "metadata": {
  "kernelspec": {
   "display_name": ".venv",
   "language": "python",
   "name": "python3"
  },
  "language_info": {
   "codemirror_mode": {
    "name": "ipython",
    "version": 3
   },
   "file_extension": ".py",
   "mimetype": "text/x-python",
   "name": "python",
   "nbconvert_exporter": "python",
   "pygments_lexer": "ipython3",
   "version": "3.11.7"
  }
 },
 "nbformat": 4,
 "nbformat_minor": 2
}
