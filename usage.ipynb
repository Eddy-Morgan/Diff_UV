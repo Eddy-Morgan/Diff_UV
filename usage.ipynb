{
 "cells": [
  {
   "cell_type": "code",
   "execution_count": 1,
   "metadata": {},
   "outputs": [],
   "source": [
    "from diffUV import dyned_eul, dyn_body\n",
    "from diffUV.utils.symbol import *\n",
    "from casadi import Function\n",
    "from blue_rov import Params as ps\n",
    "import numpy as np"
   ]
  },
  {
   "cell_type": "code",
   "execution_count": 2,
   "metadata": {},
   "outputs": [],
   "source": [
    "r_g = vertcat(x_g, y_g, z_g) # center of gravity wrt body origin\n",
    "r_b = vertcat(x_b, y_b, z_b) # center of buoyancy wrt body origin \n",
    "I_o = vertcat(I_x, I_y, I_z,I_xz) # rigid body inertia wrt body origin\n",
    "\n",
    "added_m = vertcat(X_du, Y_dv, Z_dw, K_dp, M_dq, N_dr) # added mass in diagonals\n",
    "coupling_added_m =  vertcat(X_dq, Y_dp, N_dp, M_du, K_dv) # effective added mass in non diagonals\n",
    "\n",
    "linear_dc = vertcat(X_u, Y_v, Z_w, K_p,  M_q, N_r) # linear damping coefficients\n",
    "quadratic_dc = vertcat(X_uu, Y_vv, Z_ww, K_pp, M_qq, N_rr) # quadratic damping coefficients\n",
    "\n",
    "n0 = vertcat(dx, dy, dz, thet, phi, psi, dphi, dthet, dpsi) # state variables wrt ned\n",
    "v0 = x_nb # velocity state variables wrt body"
   ]
  },
  {
   "cell_type": "markdown",
   "metadata": {},
   "source": [
    "<h1>System Inertia Matrix example</h1>"
   ]
  },
  {
   "cell_type": "code",
   "execution_count": 3,
   "metadata": {},
   "outputs": [],
   "source": [
    "# body representaion\n",
    "uv_body = dyn_body()\n",
    "inertia_mat = uv_body.body_inertia_matrix()\n",
    "M_func = Function('M_b', [m, I_o, z_g, added_m, coupling_added_m], [inertia_mat]) # for numerical & symbolic use"
   ]
  },
  {
   "cell_type": "code",
   "execution_count": 4,
   "metadata": {},
   "outputs": [
    {
     "data": {
      "text/plain": [
       "DM(\n",
       "[[17, 0, 0, 0, 0.23, 0], \n",
       " [0, 24.2, 0, -0.23, 0, 0], \n",
       " [0, 0, 26.07, 0, 0, 0], \n",
       " [0, -0.23, 0, 0.28, 0, 0], \n",
       " [0.23, 0, 0, 0, 0.28, 0], \n",
       " [0, 0, 0, -0, 0, 0.28]])"
      ]
     },
     "execution_count": 4,
     "metadata": {},
     "output_type": "execute_result"
    }
   ],
   "source": [
    "# example usage of inertia mat\n",
    "M_func(ps.m, ps.Io, ps.rg[2], ps.added_m, ps.coupl_added_m)"
   ]
  },
  {
   "cell_type": "code",
   "execution_count": 5,
   "metadata": {},
   "outputs": [],
   "source": [
    "# ned representaion\n",
    "uv_ned = dyned_eul()\n",
    "inertia_ned_mat = uv_ned.ned_euler_inertia_matrix()\n",
    "Onb = vertcat(thet, phi, psi)\n",
    "M_ned_func = Function('M_ned', [m, I_o, z_g, Onb, added_m, coupling_added_m], [inertia_ned_mat]) # for numerical & symbolic use"
   ]
  },
  {
   "cell_type": "code",
   "execution_count": 7,
   "metadata": {},
   "outputs": [
    {
     "data": {
      "text/plain": [
       "DM(\n",
       "[[17, 0, 0, -0, 0.23, 0], \n",
       " [0, 50.27, -26.07, -0.23, 0, 0], \n",
       " [0, -26.07, 26.07, -0, -0, 0], \n",
       " [-0, -0.23, -0, 0.28, 0, -0], \n",
       " [0.23, 0, -0, 0, 0.28, 0], \n",
       " [0, 0, 0, -0, 0, 0.28]])"
      ]
     },
     "execution_count": 7,
     "metadata": {},
     "output_type": "execute_result"
    }
   ],
   "source": [
    "# example usage of inertia mat in ned\n",
    "Onb_v = np.array([0,0,0])\n",
    "M_ned_func(ps.m, ps.Io, ps.rg[2], Onb_v,  ps.added_m, ps.coupl_added_m)"
   ]
  },
  {
   "cell_type": "markdown",
   "metadata": {},
   "source": [
    "<h1>Forward dynamics simulation example</h1>"
   ]
  },
  {
   "cell_type": "code",
   "execution_count": 14,
   "metadata": {},
   "outputs": [],
   "source": [
    "uv_ned = dyned_eul()\n",
    "forward_dynamics = uv_ned.ned_euler_forward_dynamics()\n",
    "# forward_dynamics.size()\n",
    "\n",
    "fd_func = Function('f', [m, W, B, r_g, r_b, I_o, \n",
    "                   added_m, coupling_added_m, \n",
    "                   linear_dc, quadratic_dc,\n",
    "                   v0, n0, tau_b], [forward_dynamics])"
   ]
  },
  {
   "cell_type": "code",
   "execution_count": 16,
   "metadata": {},
   "outputs": [
    {
     "data": {
      "text/plain": [
       "DM([0.0594846, 4.16334e-17, -0.0767165, 2.34535e-15, -0.0488624, 0])"
      ]
     },
     "execution_count": 16,
     "metadata": {},
     "output_type": "execute_result"
    }
   ],
   "source": [
    "# example usage of forward dynamics\n",
    "tau = np.array([1,0,0,0,0,0])\n",
    "v0_v = np.array([0, 0, 0 ,0 ,0, 0])\n",
    "n0_v = np.array([0, 0, 0, 0, 0, 0, 0, 0, 0])\n",
    "fd_func(ps.m, ps.W, ps.B, ps.rg, ps.rb, ps.Io, ps.added_m, ps.coupl_added_m, ps.linear_dc,ps.quadratic_dc,v0_v,  n0_v,  tau)"
   ]
  }
 ],
 "metadata": {
  "kernelspec": {
   "display_name": ".venv",
   "language": "python",
   "name": "python3"
  },
  "language_info": {
   "codemirror_mode": {
    "name": "ipython",
    "version": 3
   },
   "file_extension": ".py",
   "mimetype": "text/x-python",
   "name": "python",
   "nbconvert_exporter": "python",
   "pygments_lexer": "ipython3",
   "version": "3.11.7"
  }
 },
 "nbformat": 4,
 "nbformat_minor": 2
}
