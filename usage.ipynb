{
 "cells": [
  {
   "cell_type": "code",
   "execution_count": 1,
   "metadata": {},
   "outputs": [],
   "source": [
    "from diffUV import dyned_eul, dyn_body, kin, dyned_quat\n",
    "from diffUV.utils.symbols import *\n",
    "from diffUV.utils.quaternion_ops import euler2q, q2euler\n",
    "from casadi import *\n",
    "from blue_rov import Params as ps\n",
    "import numpy as np\n",
    "import os\n",
    "from scipy.spatial.transform import Rotation as R"
   ]
  },
  {
   "cell_type": "code",
   "execution_count": 2,
   "metadata": {},
   "outputs": [],
   "source": [
    "## unit quaternion from euler angles\n",
    "\n",
    "# euler2qf = Function('euler2q', [eul], [euler2q(eul)])\n",
    "# phi_f = 10*(pi/180)\n",
    "# psi_f = 30*(pi/180)\n",
    "# theta_f = -20*(pi/180)\n",
    "# euler2qf([phi_f, theta_f, psi_f])"
   ]
  },
  {
   "cell_type": "code",
   "execution_count": 3,
   "metadata": {},
   "outputs": [],
   "source": [
    "## euler angles from a unit quaternion\n",
    "\n",
    "q2eulerf = Function('q2euler', [uq], [q2euler(uq)])\n",
    "# q_f = np.array([0.9437, 0.1277, -0.1449, 0.2685])\n",
    "# q2eulerf(q_f)"
   ]
  },
  {
   "cell_type": "code",
   "execution_count": 4,
   "metadata": {},
   "outputs": [
    {
     "data": {
      "text/plain": [
       "SX([u, v, w, p, q, r])"
      ]
     },
     "execution_count": 4,
     "metadata": {},
     "output_type": "execute_result"
    }
   ],
   "source": [
    "r_g = vertcat(x_g, y_g, z_g) # center of gravity wrt body origin\n",
    "r_b = vertcat(x_b, y_b, z_b) # center of buoyancy wrt body origin \n",
    "I_o = vertcat(I_x, I_y, I_z,I_xz) # rigid body inertia wrt body origin\n",
    "\n",
    "decoupled_added_m = vertcat(X_du, Y_dv, Z_dw, K_dp, M_dq, N_dr) # added mass in diagonals\n",
    "coupled_added_m =  vertcat(X_dq, Y_dp, N_dp, M_du, K_dv) # effective added mass in non diagonals\n",
    "\n",
    "linear_dc = vertcat(X_u, Y_v, Z_w, K_p,  M_q, N_r) # linear damping coefficients\n",
    "quadratic_dc = vertcat(X_uu, Y_vv, Z_ww, K_pp, M_qq, N_rr) # quadratic damping coefficients\n",
    "\n",
    "n0 = vertcat(n, dn) # state variables wrt ned\n",
    "x_nb # velocity state variables wrt body"
   ]
  },
  {
   "cell_type": "markdown",
   "metadata": {},
   "source": [
    "<h1>Kinematics ned Transformation Matrix</h1>"
   ]
  },
  {
   "cell_type": "code",
   "execution_count": 5,
   "metadata": {},
   "outputs": [
    {
     "name": "stdout",
     "output_type": "stream",
     "text": [
      "@1=0, \n",
      "[[(cos(psi)*cos(thet)), (sin(psi)*cos(thet)), (-sin(thet)), @1, @1, @1], \n",
      " [(((cos(psi)*sin(thet))*sin(phi))-(sin(psi)*cos(phi))), ((cos(psi)*cos(phi))+((sin(phi)*sin(thet))*sin(psi))), (cos(thet)*sin(phi)), @1, @1, @1], \n",
      " [((sin(psi)*sin(phi))+((cos(psi)*cos(phi))*sin(thet))), (((sin(thet)*sin(psi))*cos(phi))-(cos(psi)*sin(phi))), (cos(thet)*cos(phi)), @1, @1, @1], \n",
      " [@1, @1, @1, 1, 00, (-sin(thet))], \n",
      " [@1, @1, @1, 00, cos(phi), (cos(thet)*sin(phi))], \n",
      " [@1, @1, @1, 00, (-sin(phi)), (cos(thet)*cos(phi))]]\n"
     ]
    }
   ],
   "source": [
    "Kinematics = kin()\n",
    "Jk = Kinematics.J\n",
    "J_inv = Kinematics.J_INV\n",
    "print(J_inv)\n",
    "J_inv_func = Function('J_inv', [eul], [J_inv]) # for numerical & symbolic use"
   ]
  },
  {
   "cell_type": "code",
   "execution_count": 6,
   "metadata": {},
   "outputs": [
    {
     "data": {
      "text/plain": [
       "array([[ 0.98066095,  0.09839429, -0.16918235,  0.        ,  0.        ,\n",
       "         0.        ],\n",
       "       [-0.07716877,  0.98879774,  0.12776544,  0.        ,  0.        ,\n",
       "         0.        ],\n",
       "       [ 0.17985851, -0.11223898,  0.9772683 ,  0.        ,  0.        ,\n",
       "         0.        ],\n",
       "       [ 0.        ,  0.        ,  0.        ,  1.        ,  0.        ,\n",
       "        -0.16918235],\n",
       "       [ 0.        ,  0.        ,  0.        ,  0.        ,  0.99156189,\n",
       "         0.12776544],\n",
       "       [ 0.        ,  0.        ,  0.        ,  0.        , -0.12963414,\n",
       "         0.9772683 ]])"
      ]
     },
     "execution_count": 6,
     "metadata": {},
     "output_type": "execute_result"
    }
   ],
   "source": [
    "# example usage of J mat\n",
    "jinv = np.array(J_inv_func([0.13,0.17,0.1]))\n",
    "jinv"
   ]
  },
  {
   "cell_type": "code",
   "execution_count": 7,
   "metadata": {},
   "outputs": [],
   "source": [
    "# reverse scipy convention\n",
    "def q_reverse(q):\n",
    "    x, y, z, w = q\n",
    "    return np.array([w, x, y, z])\n",
    "\n",
    "def eul_reverse(eul):\n",
    "    phi, thet, psi = eul\n",
    "    return np.array([psi, thet, phi])"
   ]
  },
  {
   "cell_type": "code",
   "execution_count": 8,
   "metadata": {},
   "outputs": [
    {
     "data": {
      "text/plain": [
       "(SX([u, v, w, p, q, r]), SX([eta, eps1, eps2, eps3]))"
      ]
     },
     "execution_count": 8,
     "metadata": {},
     "output_type": "execute_result"
    }
   ],
   "source": [
    "x_nb, uq"
   ]
  },
  {
   "cell_type": "code",
   "execution_count": 9,
   "metadata": {},
   "outputs": [
    {
     "name": "stdout",
     "output_type": "stream",
     "text": [
      "[0.374894, 0.172823, 0.179304]\n",
      "[0.97633, 0.177319, 0.101042, 0.0716117]\n"
     ]
    },
    {
     "data": {
      "text/plain": [
       "DM(\n",
       "[[1, 3.91182e-19, 2.28221e-18], \n",
       " [3.91182e-19, 1, 1.2201e-17], \n",
       " [2.28221e-18, 1.2201e-17, 1]])"
      ]
     },
     "execution_count": 9,
     "metadata": {},
     "output_type": "execute_result"
    }
   ],
   "source": [
    "# state transformations\n",
    "J_ = Kinematics.J\n",
    "Jq_ = Kinematics.Jq\n",
    "\n",
    "J_func = Function('J_', [eul], [J_[3:,3:]])\n",
    "Jq_func = Function('Jq_', [uq], [Jq_[3:,3:]])\n",
    "\n",
    "x_nb_v = np.array([0, 0.2, 0.0, 0.5, 0, 0.1])\n",
    "r = R.from_euler(\"ZYX\", (10, 10, 20), degrees=True)\n",
    "eul_v = r.as_euler(\"ZYX\")\n",
    "uq_v = r.as_quat()\n",
    "\n",
    "# print(uq_v)\n",
    "\n",
    " #, r.as_matrix()\n",
    "\n",
    "To = J_func(eul_reverse(eul_v))\n",
    "Tq = Jq_func(q_reverse(uq_v))\n",
    "\n",
    "\n",
    "# state discrete time propagation in euler\n",
    "h = 0.05\n",
    "wk_next = eul_reverse(eul_v) + h*To@x_nb_v[3:]\n",
    "\n",
    "# state discrete time propagation and normalization in unit quaternion\n",
    "qk_next = q_reverse(uq_v)+ h*Tq@x_nb_v[3:]\n",
    "norm_qk_next = qk_next/sqrt(qk_next.T@qk_next)\n",
    "\n",
    "\n",
    "# response\n",
    "print(wk_next)\n",
    "print(norm_qk_next)\n",
    "\n",
    "\n",
    "#checking for property 8.17 --> eye(3)\n",
    "4*(Tq.T@Tq) "
   ]
  },
  {
   "cell_type": "code",
   "execution_count": 10,
   "metadata": {},
   "outputs": [
    {
     "data": {
      "text/plain": [
       "(array([0.97632635, 0.1773187 , 0.10107384, 0.07161717]),\n",
       " DM([0.97633, 0.177319, 0.101042, 0.0716117]))"
      ]
     },
     "execution_count": 10,
     "metadata": {},
     "output_type": "execute_result"
    }
   ],
   "source": [
    "# compare euler and quaternion results\n",
    "rr = R.from_euler(\"ZYX\", (0.179304, 0.172823, 0.374894), degrees=False)\n",
    "q_reverse(rr.as_quat()) , norm_qk_next\n",
    "\n",
    "# as expected both quaternion and euler produce same response"
   ]
  },
  {
   "cell_type": "markdown",
   "metadata": {},
   "source": [
    "<h1>Vehicle Dynamics</h1>"
   ]
  },
  {
   "cell_type": "code",
   "execution_count": 11,
   "metadata": {},
   "outputs": [],
   "source": [
    "# body representaion\n",
    "uv_body = dyn_body()\n",
    "\n",
    "# ned representaion\n",
    "uv_ned = dyned_eul()\n",
    "\n",
    "# quaternion representation\n",
    "uv_quat = dyned_quat()"
   ]
  },
  {
   "cell_type": "markdown",
   "metadata": {},
   "source": [
    "<h1>System Inertia Matrix example</h1>"
   ]
  },
  {
   "cell_type": "code",
   "execution_count": 12,
   "metadata": {},
   "outputs": [],
   "source": [
    "inertia_mat = uv_body.body_inertia_matrix()\n",
    "M_func = Function('M_b', [m, I_o, z_g, decoupled_added_m, coupled_added_m], [inertia_mat]) # for numerical & symbolic use"
   ]
  },
  {
   "cell_type": "code",
   "execution_count": 13,
   "metadata": {},
   "outputs": [
    {
     "data": {
      "text/plain": [
       "array([[17.  ,  0.  ,  0.  ,  0.  ,  0.23,  0.  ],\n",
       "       [ 0.  , 24.2 ,  0.  , -0.23,  0.  ,  0.  ],\n",
       "       [ 0.  ,  0.  , 26.07,  0.  ,  0.  ,  0.  ],\n",
       "       [ 0.  , -0.23,  0.  ,  0.28,  0.  ,  0.  ],\n",
       "       [ 0.23,  0.  ,  0.  ,  0.  ,  0.28,  0.  ],\n",
       "       [ 0.  ,  0.  ,  0.  , -0.  ,  0.  ,  0.28]])"
      ]
     },
     "execution_count": 13,
     "metadata": {},
     "output_type": "execute_result"
    }
   ],
   "source": [
    "# example usage of inertia mat\n",
    "M_mat = np.array(M_func(ps.m, ps.Io, ps.rg[2], ps.added_m, ps.coupl_added_m))\n",
    "M_mat"
   ]
  },
  {
   "cell_type": "code",
   "execution_count": 14,
   "metadata": {},
   "outputs": [],
   "source": [
    "inertia_ned_mat = uv_ned.ned_euler_inertia_matrix()\n",
    "Onb = vertcat(thet, phi, psi)\n",
    "M_ned_func = Function('M_ned', [m, I_o, z_g, Onb, decoupled_added_m, coupled_added_m], [inertia_ned_mat]) # for numerical & symbolic use"
   ]
  },
  {
   "cell_type": "code",
   "execution_count": 15,
   "metadata": {},
   "outputs": [
    {
     "data": {
      "text/plain": [
       "array([[ 1.72303360e+01, -7.45090577e-01,  1.18405662e+00,\n",
       "         1.76115723e-02,  2.23648786e-01,  3.57838329e-02],\n",
       "       [-7.45090577e-01,  2.41747103e+01, -1.91929773e-01,\n",
       "        -2.26055609e-01,  2.24397276e-02,  3.31239544e-02],\n",
       "       [ 1.18405662e+00, -1.91929773e-01,  2.58649536e+01,\n",
       "        -3.85835972e-02, -2.93860503e-02,  0.00000000e+00],\n",
       "       [ 1.76115723e-02, -2.26055609e-01, -3.85835972e-02,\n",
       "         2.80000000e-01,  0.00000000e+00, -3.62975599e-02],\n",
       "       [ 2.23648786e-01,  2.24397276e-02, -2.93860503e-02,\n",
       "         0.00000000e+00,  2.80000000e-01,  0.00000000e+00],\n",
       "       [ 3.57838329e-02,  3.31239544e-02,  0.00000000e+00,\n",
       "        -3.62975599e-02,  0.00000000e+00,  2.80000000e-01]])"
      ]
     },
     "execution_count": 15,
     "metadata": {},
     "output_type": "execute_result"
    }
   ],
   "source": [
    "# example usage of inertia mat in ned\n",
    "Onb_v = np.array([0.13,0.17,0.1])\n",
    "np.array(M_ned_func(ps.m, ps.Io, ps.rg[2], Onb_v,  ps.added_m, ps.coupl_added_m))"
   ]
  },
  {
   "cell_type": "code",
   "execution_count": 16,
   "metadata": {},
   "outputs": [
    {
     "data": {
      "text/plain": [
       "array([[ 1.73362823e+01, -7.32488329e-01,  1.52324571e+00,\n",
       "         1.77488172e-02,  2.23648786e-01,  2.58149654e-02],\n",
       "       [-7.32488329e-01,  2.41538511e+01, -8.52604453e-02,\n",
       "        -2.27423481e-01,  2.24397276e-02,  4.13674584e-02],\n",
       "       [ 1.52324571e+00, -8.52604453e-02,  2.57798665e+01,\n",
       "        -2.93860503e-02, -3.85835972e-02, -7.71263355e-19],\n",
       "       [ 1.77488172e-02, -2.27423481e-01, -2.93860503e-02,\n",
       "         2.80000000e-01,  0.00000000e+00, -4.73710577e-02],\n",
       "       [ 2.23648786e-01,  2.24397276e-02, -3.85835972e-02,\n",
       "         0.00000000e+00,  2.80000000e-01, -2.51507399e-18],\n",
       "       [ 2.58149654e-02,  4.13674584e-02,  7.71263355e-19,\n",
       "        -4.73710577e-02, -2.45961687e-18,  2.80000000e-01]])"
      ]
     },
     "execution_count": 16,
     "metadata": {},
     "output_type": "execute_result"
    }
   ],
   "source": [
    "# checks --> above results (inertia mat in ned using body inertia and J tansform)\n",
    "jinv.T@M_mat@jinv "
   ]
  },
  {
   "cell_type": "markdown",
   "metadata": {},
   "source": [
    "<h1>Forward dynamics simulation example</h1>"
   ]
  },
  {
   "cell_type": "code",
   "execution_count": 17,
   "metadata": {},
   "outputs": [],
   "source": [
    "Jq_dot = Kinematics.Jq_dot\n",
    "\n",
    "v_ddot = uv_body.body_forward_dynamics()\n",
    "\n",
    "xd = Jq_@x_nb\n",
    "ode_xdd = v_ddot\n",
    "\n",
    "ode = vertcat(xd, ode_xdd) #the complete ODE vector\n",
    "f_ode = Function('Odefunc', [m, W, B, r_g, r_b, I_o,\n",
    "                           decoupled_added_m, coupled_added_m,\n",
    "                           linear_dc, quadratic_dc,\n",
    "                           x_nb, n, uq, tau_b], [ode])"
   ]
  },
  {
   "cell_type": "code",
   "execution_count": 18,
   "metadata": {},
   "outputs": [
    {
     "data": {
      "text/plain": [
       "Function(f_ode_simplify:(i0[6],i1[4],i2[6])->(o0[13]) SXFunction)"
      ]
     },
     "execution_count": 18,
     "metadata": {},
     "output_type": "execute_result"
    }
   ],
   "source": [
    "n_arg = vertcat(p_n, q2euler(uq))\n",
    "f_ode_simplify = f_ode(ps.m, ps.W, ps.B, ps.rg, ps.rb, ps.Io, ps.added_m,\n",
    "                       ps.coupl_added_m, ps.linear_dc, ps.quadratic_dc, x_nb,  n_arg, uq,  tau_b)\n",
    "\n",
    "f_ode_simplify_func = Function('f_ode_simplify', [x_nb , uq, tau_b], [f_ode_simplify]) ## RETURNS vertcat(p_n ,uq , x_nb)\n",
    "f_ode_simplify_func"
   ]
  },
  {
   "cell_type": "code",
   "execution_count": 19,
   "metadata": {},
   "outputs": [
    {
     "data": {
      "text/plain": [
       "array([[ 0.        ],\n",
       "       [ 0.        ],\n",
       "       [ 0.        ],\n",
       "       [-0.        ],\n",
       "       [ 0.        ],\n",
       "       [ 0.        ],\n",
       "       [ 0.        ],\n",
       "       [ 0.        ],\n",
       "       [ 0.        ],\n",
       "       [-0.07614116],\n",
       "       [ 0.        ],\n",
       "       [ 0.        ],\n",
       "       [ 0.        ]])"
      ]
     },
     "execution_count": 19,
     "metadata": {},
     "output_type": "execute_result"
    }
   ],
   "source": [
    "u0 = np.array([0.0, 0.0, 0.0, 0.0, 0.0, 0.0])\n",
    "q0 = np.array([1, 0, 0 ,0])\n",
    "v_b0 = np.array([0.0, 0.0, 0.0, 0.0, 0.0, 0.0])\n",
    "p0 = np.array([0.0, 0.0, 0.0])\n",
    "#accelerations tests\n",
    "np.array(f_ode_simplify_func(v_b0, q0, u0))"
   ]
  },
  {
   "cell_type": "code",
   "execution_count": 20,
   "metadata": {},
   "outputs": [
    {
     "name": "stderr",
     "output_type": "stream",
     "text": [
      "CasADi - 2024-06-16 22:24:53 WARNING(\"The options 't0', 'tf', 'grid' and 'output_t0' have been deprecated.\n",
      "The same functionality is provided by providing additional input arguments to the 'integrator' function, in particular:\n",
      " * Call integrator(..., t0, tf, options) for a single output time, or\n",
      " * Call integrator(..., t0, grid, options) for multiple grid points.\n",
      "The legacy 'output_t0' option can be emulated by including or excluding 't0' in 'grid'.\n",
      "Backwards compatibility is provided in this release only.\") [.../casadi/core/integrator.cpp:521]\n"
     ]
    }
   ],
   "source": [
    "T = 10 # time horizon\n",
    "N = 50 # number of control intervals\n",
    "\n",
    "# integrator to discretize the system\n",
    "dae = {'x':vertcat(p_n, uq, x_nb), 'p':tau_b, 'ode': f_ode_simplify_func(x_nb ,uq, tau_b)}\n",
    "intg = integrator('intg', 'rk', dae, {'tf':T/N, 'number_of_finite_elements':4, 'simplify':True})"
   ]
  },
  {
   "cell_type": "code",
   "execution_count": 21,
   "metadata": {},
   "outputs": [],
   "source": [
    "xS0 = vertcat(p_n, uq, x_nb)\n",
    "# print(xS0)\n",
    "res = intg(x0=xS0,p=tau_b) #evaluate with symbols\n",
    "x_next = res['xf']\n",
    "x_next[3:7] = x_next[3:7]/sqrt(x_next[3:7].T@x_next[3:7])  # quaternions requires normalization"
   ]
  },
  {
   "cell_type": "code",
   "execution_count": 22,
   "metadata": {},
   "outputs": [],
   "source": [
    "# Simplify API to (x,u)->(x_next)\n",
    "F = Function('F',[xS0,tau_b],[x_next])"
   ]
  },
  {
   "cell_type": "code",
   "execution_count": 23,
   "metadata": {},
   "outputs": [
    {
     "data": {
      "text/plain": [
       "DM([0, 0, -0.00150179, 1, 0, 0, 0, 0, 0, -0.0149086, 0, 0, 0])"
      ]
     },
     "execution_count": 23,
     "metadata": {},
     "output_type": "execute_result"
    }
   ],
   "source": [
    "x0 = vertcat(p0, q0, v_b0)\n",
    "F(x0,u0)"
   ]
  },
  {
   "cell_type": "code",
   "execution_count": 24,
   "metadata": {},
   "outputs": [],
   "source": [
    "sim = F.mapaccum(N)\n",
    "res = sim(x0, u0)"
   ]
  },
  {
   "cell_type": "code",
   "execution_count": 58,
   "metadata": {},
   "outputs": [],
   "source": [
    "import math\n",
    " \n",
    "def euler_from_quaternion(q):\n",
    "        w, x, y, z = q\n",
    "        \"\"\"\n",
    "        Convert a quaternion into euler angles (roll, pitch, yaw)\n",
    "        roll is rotation around x in radians (counterclockwise)\n",
    "        pitch is rotation around y in radians (counterclockwise)\n",
    "        yaw is rotation around z in radians (counterclockwise)\n",
    "        \"\"\"\n",
    "        t0 = +2.0 * (w * x + y * z)\n",
    "        t1 = +1.0 - 2.0 * (x * x + y * y)\n",
    "        roll_x = math.atan2(t0, t1)\n",
    "     \n",
    "        t2 = +2.0 * (w * y - z * x)\n",
    "        t2 = +1.0 if t2 > +1.0 else t2\n",
    "        t2 = -1.0 if t2 < -1.0 else t2\n",
    "        pitch_y = math.asin(t2)\n",
    "     \n",
    "        t3 = +2.0 * (w * z + x * y)\n",
    "        t4 = +1.0 - 2.0 * (y * y + z * z)\n",
    "        yaw_z = math.atan2(t3, t4)\n",
    "     \n",
    "        return np.array([roll_x, pitch_y, yaw_z]) # in radians"
   ]
  },
  {
   "cell_type": "code",
   "execution_count": 73,
   "metadata": {},
   "outputs": [
    {
     "data": {
      "image/png": "[encoded data removed]",
      "text/plain": [
       "<Figure size 640x480 with 1 Axes>"
      ]
     },
     "metadata": {},
     "output_type": "display_data"
    },
    {
     "data": {
      "image/png": "[encoded data removed]",
      "text/plain": [
       "<Figure size 640x480 with 1 Axes>"
      ]
     },
     "metadata": {},
     "output_type": "display_data"
    },
    {
     "data": {
      "image/png": "[encoded data removed]",
      "text/plain": [
       "<Figure size 640x480 with 1 Axes>"
      ]
     },
     "metadata": {},
     "output_type": "display_data"
    }
   ],
   "source": [
    "import matplotlib.pyplot as plt\n",
    "u0 = np.array([0.5, 0.0, 0.0, 0.0, 0.0, 0.0])\n",
    "res = sim(x0, u0)\n",
    "res.T\n",
    "t = np.linspace(0, T, N+1)\n",
    "\n",
    "# Create a figure and plot the data\n",
    "plt.figure()\n",
    "plt.plot(t, np.concatenate((np.array(x0).reshape((13,1)), res.toarray()), axis=1)[0:3,:].T)\n",
    "plt.legend(['surge - x[m]', 'sway - y[m]', 'heave -z[m]'])\n",
    "plt.title(\"position in NED coordinate\")\n",
    "plt.xlabel('t [s]')\n",
    "\n",
    "plt.figure()\n",
    "vfunc = np.vectorize(euler_from_quaternion, signature='(n)->(k)')\n",
    "rpy_array = vfunc(np.concatenate((np.array(x0).reshape((13,1)), res.toarray()), axis=1)[3:7,:].T)\n",
    "plt.plot(t, rpy_array)\n",
    "plt.legend(['roll', 'pitch', 'yaw'])\n",
    "plt.title(\"orientation in NED euler coordinate\")\n",
    "plt.xlabel('t [s]')\n",
    "\n",
    "plt.figure()\n",
    "plt.plot(t, np.concatenate((np.array(x0).reshape((13,1)), res.toarray()), axis=1)[7::,:].T)\n",
    "plt.legend(['u', 'v', 'w', 'p', 'q', 'r'])\n",
    "plt.xlabel('t[s]')\n",
    "plt.title(\"velocity in body coordinate\")\n",
    "plt.show()\n",
    "\n"
   ]
  },
  {
   "cell_type": "markdown",
   "metadata": {},
   "source": [
    "# Code generation"
   ]
  },
  {
   "cell_type": "code",
   "execution_count": 26,
   "metadata": {},
   "outputs": [
    {
     "data": {
      "text/plain": [
       "0"
      ]
     },
     "execution_count": 26,
     "metadata": {},
     "output_type": "execute_result"
    }
   ],
   "source": [
    "# c , cpp or matlab code generation for forward dynamics\n",
    "F.generate(\"F_next.c\")\n",
    "os.system(f\"gcc -fPIC -shared F_next.c -o libF_next.so\")"
   ]
  }
 ],
 "metadata": {
  "kernelspec": {
   "display_name": ".venv",
   "language": "python",
   "name": "python3"
  },
  "language_info": {
   "codemirror_mode": {
    "name": "ipython",
    "version": 3
   },
   "file_extension": ".py",
   "mimetype": "text/x-python",
   "name": "python",
   "nbconvert_exporter": "python",
   "pygments_lexer": "ipython3",
   "version": "3.11.7"
  }
 },
 "nbformat": 4,
 "nbformat_minor": 2
}
