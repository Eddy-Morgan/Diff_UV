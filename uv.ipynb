{
 "cells": [
  {
   "cell_type": "code",
   "execution_count": 9,
   "metadata": {},
   "outputs": [],
   "source": [
    "from casadi import SX, inv, vertcat, Function, integrator, sin, cos"
   ]
  },
  {
   "cell_type": "code",
   "execution_count": 13,
   "metadata": {},
   "outputs": [],
   "source": [
    "#Equations of motion expressed in BODY\n",
    "m = SX.sym('m')  # Mass\n",
    "\n",
    "X_du = SX.sym('X_du') # Added mass in surge\n",
    "Y_dv = SX.sym('Y_dv') # Added mass in sway\n",
    "Z_dw = SX.sym('Z_dw') # Added mass in heave\n",
    "\n",
    "K_dp = SX.sym('K_dp') # Added mass in roll\n",
    "M_dq = SX.sym('M_dq') # Added mass in pitch\n",
    "N_dr = SX.sym('N_dr') # Added mass in yaw\n",
    "\n",
    "X_dw = SX.sym('X_dw') # coupled Added mass in surge & heave\n",
    "Y_dp = SX.sym('Y_dp') # coupled Added mass in sway & roll\n",
    "X_dq = SX.sym('X_dq') # coupled Added mass in surge & pitch\n",
    "Y_dr = SX.sym('Y_dr') # coupled Added mass in sway & yaw\n",
    "Z_dq = SX.sym('Z_dq') # coupled Added mass in heave & pitch\n",
    "K_dr = SX.sym('K_dr') # coupled Added mass in roll & yaw\n",
    "\n",
    "I_x = SX.sym('I_x') # moment of inertia x entry\n",
    "I_y = SX.sym('I_y') # moment of inertia y entry\n",
    "I_z = SX.sym('I_z') # moment of inertia z entry\n",
    "I_zx = SX.sym('I_zx') # product of inertia zx entry \n",
    "\n",
    "x_g = SX.sym('x_g')  # Center of gravity, x-axis\n",
    "y_g = SX.sym('y_g')  # Center of gravity, z-axis\n",
    "z_g = SX.sym('z_g')  # Center of gravity, z-axis\n",
    "\n",
    "x_b = SX.sym('x_b')  # Center of buoyancy, x-axis\n",
    "y_b = SX.sym('y_b')  # Center of buoyancy, z-axis\n",
    "z_b = SX.sym('z_b')  # Center of buoyancy, z-axis"
   ]
  },
  {
   "cell_type": "code",
   "execution_count": 12,
   "metadata": {},
   "outputs": [],
   "source": [
    "# Inertia Matrix ROV & AUV\n",
    "#assuming Starboard–port symmetrical underwater vehicles yg=0 and Ixy = Iyz = 0\n",
    "M = SX(6, 6)  # Create a 6x6 symbolic matrix\n",
    "\n",
    "# Manually populate the matrix\n",
    "M[0, 0] = m - X_du\n",
    "M[1, 1] = m - Y_dv\n",
    "M[2, 2] = m - Z_dw\n",
    "M[3, 3] = I_x - K_dp\n",
    "M[4, 4] = I_y - M_dq\n",
    "M[5, 5] = I_z - N_dr\n",
    "\n",
    "M[2, 0] = -X_dw\n",
    "M[0, 2] = -X_dw\n",
    "\n",
    "M[3, 1] = -m * z_g - Y_dp\n",
    "M[1, 3] = -m * z_g - Y_dp\n",
    "\n",
    "M[4, 2] = m * x_g - Z_dq\n",
    "M[2, 4] = m * x_g - Z_dq\n",
    "\n",
    "M[5, 3] = -I_zx - K_dr\n",
    "M[5, 3] = -I_zx - K_dr\n",
    "\n",
    "M[4, 0] = m*z_g - X_dq\n",
    "M[0, 4] = m*z_g - X_dq\n",
    "\n",
    "M[5, 1] = m * x_g - Y_dr\n",
    "M[1, 5] = m * x_g - Y_dr"
   ]
  },
  {
   "cell_type": "code",
   "execution_count": 16,
   "metadata": {},
   "outputs": [],
   "source": [
    "# restoring forces\n",
    "\n",
    "W = SX.sym('W')  # weight\n",
    "B = SX.sym('B')  # buoyancy\n",
    "\n",
    "thet = SX.sym('thet')  \n",
    "phi = SX.sym('phi')  \n",
    "\n",
    "g = SX(6, 1)\n",
    "\n",
    "g[0,0] = (W - B)*sin(thet)\n",
    "g[1,0] = -(W - B)*cos(thet)*sin(phi)\n",
    "g[2,0] = -(W - B)*cos(thet)*cos(phi)\n",
    "g[3,0] = -(y_g*W -y_b*B)*cos(thet)*cos(phi) + (z_g*W -z_b*B)*cos(thet)*sin(phi)\n",
    "g[4,0] = (z_g*W -z_b*B)*sin(thet) + (x_g*W -x_b*B)*cos(thet)*cos(phi)\n",
    "g[5,0] = -(x_g*W -x_b*B)*cos(thet)*sin(phi) - (y_g*W -y_b*B)*sin(thet)"
   ]
  },
  {
   "cell_type": "code",
   "execution_count": null,
   "metadata": {},
   "outputs": [],
   "source": [
    "# Damping will be nonlinear and coupled for an underwater vehicle moving in 6 DOFs at high speed\n",
    "\n",
    "# <xUabsU>\tQuadratic drag in surge\n",
    "\n",
    "# <yVabsV>\tQuadratic drag in sway\n",
    "\n",
    "# <zWabsW>\tQuadratic drag in heave\n",
    "\n",
    "# <kPabsP>\tQuadratic drag in roll\n",
    "\n",
    "# <mQabsQ>\tQuadratic drag in pitch\n",
    "\n",
    "# <nRabsR>\tQuadratic drag in yaw\n",
    "\n",
    "\n",
    "\n",
    "# vehicle is performing a noncoupled motion, we can assume a diagonal structure\n",
    "X_u = SX.sym('X_u') # <xU>\tLinear drag in surge\n",
    "Y_v = SX.sym('Y_v') # <yV>\tLinear drag in sway\n",
    "Z_w = SX.sym('Z_w') # <zW>\tLinear drag in heave\n",
    "K_p = SX.sym('K_p') # <kP>\tLinear drag in roll\n",
    "M_q = SX.sym('M_q') # <mQ>\tLinear drag in pitch\n",
    "N_r = SX.sym('N_r') # <nR>\tLinear drag in yaw\n",
    "\n"
   ]
  }
 ],
 "metadata": {
  "kernelspec": {
   "display_name": "Python 3",
   "language": "python",
   "name": "python3"
  },
  "language_info": {
   "codemirror_mode": {
    "name": "ipython",
    "version": 3
   },
   "file_extension": ".py",
   "mimetype": "text/x-python",
   "name": "python",
   "nbconvert_exporter": "python",
   "pygments_lexer": "ipython3",
   "version": "3.11.7"
  }
 },
 "nbformat": 4,
 "nbformat_minor": 2
}
