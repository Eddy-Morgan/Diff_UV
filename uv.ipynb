{
 "cells": [
  {
   "cell_type": "code",
   "execution_count": 2,
   "metadata": {},
   "outputs": [],
   "source": [
    "from casadi import SX, inv, vertcat, Function, integrator, sin, cos, diag, skew"
   ]
  },
  {
   "cell_type": "code",
   "execution_count": 3,
   "metadata": {},
   "outputs": [
    {
     "data": {
      "text/plain": [
       "SX(@1=0, @2=((((((M_A_2*u)+(M_A_8*v))+(M_A_14*w))+(M_A_20*p))+(M_A_26*q))+(M_A_32*r)), @3=((((((M_A_1*u)+(M_A_7*v))+(M_A_13*w))+(M_A_19*p))+(M_A_25*q))+(M_A_31*r)), @4=((((((M_A_0*u)+(M_A_6*v))+(M_A_12*w))+(M_A_18*p))+(M_A_24*q))+(M_A_30*r)), @5=((((((M_A_5*u)+(M_A_11*v))+(M_A_17*w))+(M_A_23*p))+(M_A_29*q))+(M_A_35*r)), @6=((((((M_A_4*u)+(M_A_10*v))+(M_A_16*w))+(M_A_22*p))+(M_A_28*q))+(M_A_34*r)), @7=((((((M_A_3*u)+(M_A_9*v))+(M_A_15*w))+(M_A_21*p))+(M_A_27*q))+(M_A_33*r)), \n",
       "[[@1, @1, @1, @1, (-@2), @3], \n",
       " [@1, @1, @1, @2, @1, (-@4)], \n",
       " [@1, @1, @1, (-@3), @4, @1], \n",
       " [@1, (-@2), @3, @1, (-@5), @6], \n",
       " [@2, @1, (-@4), @5, @1, (-@7)], \n",
       " [(-@3), @4, @1, (-@6), @7, @1]])"
      ]
     },
     "execution_count": 3,
     "metadata": {},
     "output_type": "execute_result"
    }
   ],
   "source": [
    "#Equations of motion expressed in BODY\n",
    "\n",
    "#6 DOF states vectors\n",
    "u = SX.sym('u') \n",
    "v = SX.sym('v') \n",
    "w = SX.sym('w')\n",
    "v_nb = vertcat(u,v,w) #body-fixed linear velocity\n",
    "\n",
    "p = SX.sym('p') \n",
    "q = SX.sym('q') \n",
    "r = SX.sym('r')\n",
    "w_nb = vertcat(p,q,r) #body-fixed angular velocity\n",
    "\n",
    "x_nb = vertcat(v_nb,w_nb)\n",
    "\n",
    "m = SX.sym('m')  # Mass\n",
    "\n",
    "I_x = SX.sym('I_x') # moment of inertia x entry\n",
    "I_y = SX.sym('I_y') # moment of inertia y entry\n",
    "I_z = SX.sym('I_z') # moment of inertia z entry\n",
    "I_zx = SX.sym('I_zx') # product of inertia zx entry \n",
    "I_yx = SX.sym('I_yx') # product of inertia yx entry \n",
    "I_zy = SX.sym('I_zy') # product of inertia zy entry \n",
    "\n",
    "x_g = SX.sym('x_g')  # Center of gravity, x-axis\n",
    "y_g = SX.sym('y_g')  # Center of gravity, z-axis\n",
    "z_g = SX.sym('z_g')  # Center of gravity, z-axis\n",
    "\n",
    "x_b = SX.sym('x_b')  # Center of buoyancy, x-axis\n",
    "y_b = SX.sym('y_b')  # Center of buoyancy, z-axis\n",
    "z_b = SX.sym('z_b')  # Center of buoyancy, z-axis\n",
    "\n",
    "\n",
    "# Added Mass Forces in a Rotating Coordinate System\n",
    "\n",
    "#Hydrodynamic System Inertia Matrix\n",
    "M_A = -SX.sym('M_A',6,6)\n",
    "\n",
    "# Hydrodynamic Coriolis and centripetal matrix\n",
    "C_A = SX.zeros(6,6)\n",
    "a = M_A@x_nb\n",
    "a_n =  SX.sym('a_n',3) \n",
    "a_n[0] = a[0]\n",
    "a_n[1] = a[1]\n",
    "a_n[2] = a[2]\n",
    "\n",
    "b_n =  SX.sym('b_n',3)\n",
    "b_n[0] = a[3]\n",
    "b_n[1] = a[4]\n",
    "b_n[2] = a[5]\n",
    "\n",
    "C_A[3:,:3] = -skew(a_n)\n",
    "C_A[:3,3:] = -skew(a_n)\n",
    "C_A[3:,3:] = -skew(b_n)\n",
    "\n",
    "C_A"
   ]
  },
  {
   "cell_type": "code",
   "execution_count": 4,
   "metadata": {},
   "outputs": [
    {
     "name": "stdout",
     "output_type": "stream",
     "text": [
      "@1=0, @2=(m*z_g), @3=(m*y_g), @4=(m*x_g), @5=(-I_yx), @6=(-I_zx), @7=(-I_zy), \n",
      "[[m, 00, 00, @1, @2, (-@3)], \n",
      " [00, m, 00, (-@2), @1, @4], \n",
      " [00, 00, m, @3, (-@4), @1], \n",
      " [@1, (-@2), @3, I_x, @5, @6], \n",
      " [@2, @1, (-@4), @5, I_y, @7], \n",
      " [(-@3), @4, @1, @6, @7, I_z]]\n"
     ]
    },
    {
     "data": {
      "text/plain": [
       "SX(@1=0, @2=(m*((y_g*q)+(z_g*r))), @3=(m*((x_g*q)-w)), @4=(m*((x_g*r)+v)), @5=(m*((y_g*p)+w)), @6=(m*((z_g*r)+(x_g*p))), @7=(m*((y_g*r)-u)), @8=(m*((z_g*p)-v)), @9=(m*((z_g*q)+u)), @10=(m*((x_g*p)+(y_g*q))), @11=(((I_zy*q)+(I_zx*p))-(I_z*r)), @12=(((I_zy*r)+(I_yx*p))-(I_y*q)), @13=(((I_zx*r)+(I_yx*q))-(I_x*p)), \n",
       "[[@1, @1, @1, @2, (-@3), (-@4)], \n",
       " [@1, @1, @1, (-@5), @6, (-@7)], \n",
       " [@1, @1, @1, (-@8), (-@9), @10], \n",
       " [(-@2), @5, @8, @1, (-@11), @12], \n",
       " [@3, (-@6), @9, @11, @1, (-@13)], \n",
       " [@4, @7, (-@10), (-@12), @13, @1]])"
      ]
     },
     "execution_count": 4,
     "metadata": {},
     "output_type": "execute_result"
    }
   ],
   "source": [
    "# Rigid body kinetics\n",
    "\n",
    "# body inertia tensor\n",
    "I_rb = SX.sym('I_rb',3,3)\n",
    "I_rb[0,0] = I_x\n",
    "I_rb[1,1] = I_y\n",
    "I_rb[2,2] = I_z\n",
    "I_rb[1,0] = -I_yx\n",
    "I_rb[2,0] = -I_zx\n",
    "I_rb[2,1] = -I_zy\n",
    "I_rb[0,1] = I_rb[1,0]\n",
    "I_rb[0,2] = I_rb[2,0]\n",
    "I_rb[1,2] = I_rb[2,1]\n",
    "\n",
    "# Rigid-Body System Inertia Matrix\n",
    "M_rb = SX(6, 6)  # Create a 6x6 symbolic matrix\n",
    "\n",
    "# Manually populate the matrix\n",
    "M_rb[:3, :3] = m*SX.eye(3)\n",
    "M_rb[3:, 3:] = I_rb\n",
    "\n",
    "S_v  =  SX.sym('S_v',3)  # inertia skew symmetric component\n",
    "S_v[0] = m*x_g\n",
    "S_v[1] = m*y_g\n",
    "S_v[2] = m*z_g\n",
    "\n",
    "S = skew(S_v)\n",
    "\n",
    "M_rb[3:, :3] = S\n",
    "M_rb[:3, 3:] = -S\n",
    "\n",
    "print(M_rb)\n",
    "\n",
    "\n",
    "# Coriolis-Centripetal Matrix from System Inertia Matrix\n",
    "# Lagrangian Parameterization\n",
    "C_rb = SX(6, 6)  # Create a 6x6 symbolic matrix\n",
    "# Manually populate the matrix\n",
    "c_m = SX(3, 3) \n",
    "\n",
    "c_m[0,0] = -m*(y_g*q + z_g*r)\n",
    "c_m[1,0] = m*(x_g*q - w)\n",
    "c_m[2,0] = m*(x_g*r + v)\n",
    "\n",
    "c_m[0,1] = m*(y_g*p + w)\n",
    "c_m[1,1] = -m*(z_g*r + x_g*p)\n",
    "c_m[2,1] = m*(y_g*r - u)\n",
    "\n",
    "c_m[0,2] = m*(z_g*p - v)\n",
    "c_m[1,2] = m*(z_g*q + u)\n",
    "c_m[2,2] = -m*(x_g*p + y_g*q)\n",
    "\n",
    "c_I_v = SX.sym('c_I_v',3)\n",
    "c_I_v[0] = I_zx*r + I_yx*q - I_x*p\n",
    "c_I_v[1] = I_zy*r + I_yx*p - I_y*q\n",
    "c_I_v[2] = I_zy*q + I_zx*p - I_z*r\n",
    "c_I = skew(c_I_v)\n",
    "\n",
    "C_rb[:3, :3] = SX.zeros(3,3)\n",
    "C_rb[:3, 3:] = -c_m.T\n",
    "C_rb[3:, :3] = c_m\n",
    "C_rb[3:, 3:] = c_I\n",
    "\n",
    "C_rb\n",
    "# Inertia Matrix ROV & AUV"
   ]
  },
  {
   "cell_type": "code",
   "execution_count": 7,
   "metadata": {},
   "outputs": [
    {
     "data": {
      "text/plain": [
       "SX(@1=(m*z_g), @2=(m*y_g), @3=(m*x_g), \n",
       "[[(m-M_A_0), (-M_A_6), (-M_A_12), (-M_A_18), (@1-M_A_24), (-(@2+M_A_30))], \n",
       " [(-M_A_1), (m-M_A_7), (-M_A_13), (-(@1+M_A_19)), (-M_A_25), (@3-M_A_31)], \n",
       " [(-M_A_2), (-M_A_8), (m-M_A_14), (@2-M_A_20), (-(@3+M_A_26)), (-M_A_32)], \n",
       " [(-M_A_3), (-(@1+M_A_9)), (@2-M_A_15), (I_x-M_A_21), (-(I_yx+M_A_27)), (-(I_zx+M_A_33))], \n",
       " [(@1-M_A_4), (-M_A_10), (-(@3+M_A_16)), (-(I_yx+M_A_22)), (I_y-M_A_28), (-(I_zy+M_A_34))], \n",
       " [(-(@2+M_A_5)), (@3-M_A_11), (-M_A_17), (-(I_zx+M_A_23)), (-(I_zy+M_A_29)), (I_z-M_A_35)]])"
      ]
     },
     "execution_count": 7,
     "metadata": {},
     "output_type": "execute_result"
    }
   ],
   "source": [
    "#assuming Starboard–port symmetrical underwater vehicles yg=0 and Ixy = Iyz = 0\n",
    "M = M_rb + M_A\n",
    "M"
   ]
  },
  {
   "cell_type": "code",
   "execution_count": 16,
   "metadata": {},
   "outputs": [],
   "source": [
    "# Hydrostatics of Submerged Vehicles\n",
    "# restoring forces\n",
    "\n",
    "W = SX.sym('W')  # weight\n",
    "B = SX.sym('B')  # buoyancy\n",
    "\n",
    "thet = SX.sym('thet')  \n",
    "phi = SX.sym('phi')  \n",
    "\n",
    "g = SX(6, 1)\n",
    "\n",
    "g[0,0] = (W - B)*sin(thet)\n",
    "g[1,0] = -(W - B)*cos(thet)*sin(phi)\n",
    "g[2,0] = -(W - B)*cos(thet)*cos(phi)\n",
    "g[3,0] = -(y_g*W -y_b*B)*cos(thet)*cos(phi) + (z_g*W -z_b*B)*cos(thet)*sin(phi)\n",
    "g[4,0] = (z_g*W -z_b*B)*sin(thet) + (x_g*W -x_b*B)*cos(thet)*cos(phi)\n",
    "g[5,0] = -(x_g*W -x_b*B)*cos(thet)*sin(phi) - (y_g*W -y_b*B)*sin(thet)\n",
    "\n",
    "#For neutrally buoyant vehicles W = B\n"
   ]
  },
  {
   "cell_type": "code",
   "execution_count": null,
   "metadata": {},
   "outputs": [],
   "source": [
    "# Damping will be nonlinear and coupled for an underwater vehicle moving in 6 DOFs at high speed\n",
    "\n",
    "# <xUabsU>\tQuadratic drag in surge\n",
    "\n",
    "# <yVabsV>\tQuadratic drag in sway\n",
    "\n",
    "# <zWabsW>\tQuadratic drag in heave\n",
    "\n",
    "# <kPabsP>\tQuadratic drag in roll\n",
    "\n",
    "# <mQabsQ>\tQuadratic drag in pitch\n",
    "\n",
    "# <nRabsR>\tQuadratic drag in yaw\n",
    "\n",
    "\n",
    "\n",
    "# vehicle is performing a noncoupled motion, we can assume a diagonal structure\n",
    "X_u = SX.sym('X_u') # <xU>\tLinear drag in surge\n",
    "Y_v = SX.sym('Y_v') # <yV>\tLinear drag in sway\n",
    "Z_w = SX.sym('Z_w') # <zW>\tLinear drag in heave\n",
    "K_p = SX.sym('K_p') # <kP>\tLinear drag in roll\n",
    "M_q = SX.sym('M_q') # <mQ>\tLinear drag in pitch\n",
    "N_r = SX.sym('N_r') # <nR>\tLinear drag in yaw\n",
    "\n"
   ]
  },
  {
   "cell_type": "code",
   "execution_count": null,
   "metadata": {},
   "outputs": [],
   "source": []
  }
 ],
 "metadata": {
  "kernelspec": {
   "display_name": "Python 3",
   "language": "python",
   "name": "python3"
  },
  "language_info": {
   "codemirror_mode": {
    "name": "ipython",
    "version": 3
   },
   "file_extension": ".py",
   "mimetype": "text/x-python",
   "name": "python",
   "nbconvert_exporter": "python",
   "pygments_lexer": "ipython3",
   "version": "3.11.7"
  }
 },
 "nbformat": 4,
 "nbformat_minor": 2
}
