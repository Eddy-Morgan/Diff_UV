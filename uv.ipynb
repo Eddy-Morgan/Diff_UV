{
 "cells": [
  {
   "cell_type": "code",
   "execution_count": 7,
   "metadata": {},
   "outputs": [],
   "source": [
    "from casadi import SX, inv, vertcat, horzcat, Function, integrator, sin, cos, diag, skew, substitute, DM"
   ]
  },
  {
   "cell_type": "code",
   "execution_count": 20,
   "metadata": {},
   "outputs": [],
   "source": [
    "# Equations of motion expressed in BODY\n",
    "\n",
    "# 6 DOF states vectors\n",
    "u = SX.sym('u')\n",
    "v = SX.sym('v')\n",
    "w = SX.sym('w')\n",
    "v_nb = vertcat(u, v, w)  # body-fixed linear velocity\n",
    "\n",
    "p = SX.sym('p')\n",
    "q = SX.sym('q')\n",
    "r = SX.sym('r')\n",
    "w_nb = vertcat(p, q, r)  # body-fixed angular velocity\n",
    "\n",
    "x_nb = vertcat(v_nb, w_nb)\n",
    "\n",
    "m = SX.sym('m')  # Mass\n",
    "\n",
    "I_x = SX.sym('I_x')  # moment of inertia x entry\n",
    "I_y = SX.sym('I_y')  # moment of inertia y entry\n",
    "I_z = SX.sym('I_z')  # moment of inertia z entry\n",
    "I_zx = SX.sym('I_zx')  # product of inertia zx entry\n",
    "I_yx = SX.sym('I_yx')  # product of inertia yx entry\n",
    "I_zy = SX.sym('I_zy')  # product of inertia zy entry\n",
    "\n",
    "x_g = SX.sym('x_g')  # Center of gravity, x-axis\n",
    "y_g = SX.sym('y_g')  # Center of gravity, y-axis\n",
    "z_g = SX.sym('z_g')  # Center of gravity, z-axis\n",
    "\n",
    "x_b = SX.sym('x_b')  # Center of buoyancy, x-axis\n",
    "y_b = SX.sym('y_b')  # Center of buoyancy, y-axis\n",
    "z_b = SX.sym('z_b')  # Center of buoyancy, z-axis\n",
    "\n",
    "X_du = SX.sym('X_du') # Added mass in surge\n",
    "X_dv = SX.sym('X_dv') # coupled Added mass in surge & sway\n",
    "X_dw = SX.sym('X_dw') # coupled Added mass in surge & heave\n",
    "X_dp = SX.sym('X_dp') # coupled Added mass in surge & roll\n",
    "X_dq = SX.sym('X_dq') # coupled Added mass in surge & pitch\n",
    "X_dr = SX.sym('X_dr') # coupled Added mass in surge & pitch\n",
    "\n",
    "Y_du = SX.sym('Y_du') # Added mass in sway & surge\n",
    "Y_dv = SX.sym('Y_dv') # Added mass in sway\n",
    "Y_dw = SX.sym('Y_dw') # coupled Added mass in sway & heave\n",
    "Y_dp = SX.sym('Y_dp') # coupled Added mass in sway & roll\n",
    "Y_dq = SX.sym('Y_dq') # coupled Added mass in sway & pitch\n",
    "Y_dr = SX.sym('Y_dr') # coupled Added mass in sway & yaw\n",
    "\n",
    "Z_du = SX.sym('Z_du') # coupled Added mass in heave & surge\n",
    "Z_dv = SX.sym('Z_dv') # coupled Added mass in heave & sway\n",
    "Z_dw = SX.sym('Z_dw') # Added mass in heave\n",
    "Z_dp = SX.sym('Z_dp') # coupled Added mass in heave & roll\n",
    "Z_dq = SX.sym('Z_dq') # coupled Added mass in heave & pitch\n",
    "Z_dr = SX.sym('Z_dr') # coupled Added mass in heave & yaw\n",
    "\n",
    "K_du = SX.sym('K_du') # coupled Added mass in roll & surge\n",
    "K_dv = SX.sym('K_dv') # coupled Added mass in roll & sway\n",
    "K_dw = SX.sym('K_dw') # coupled Added mass in roll & heave\n",
    "K_dp = SX.sym('K_dp') # Added mass in roll\n",
    "K_dq = SX.sym('K_dq') # coupled Added mass in roll & pitch\n",
    "K_dr = SX.sym('K_dr') # coupled Added mass in roll & yaw\n",
    "\n",
    "M_du = SX.sym('M_du') # coupled Added mass in pitch & surge\n",
    "M_dv = SX.sym('M_dv') # coupled Added mass in pitch & sway\n",
    "M_dw = SX.sym('M_dw') # coupled Added mass in pitch & heave\n",
    "M_dp = SX.sym('M_dp') # coupled Added mass in pitch & roll\n",
    "M_dq = SX.sym('M_dq') # Added mass in pitch\n",
    "M_dr = SX.sym('M_dr') # coupled Added mass in pitch & yaw\n",
    "\n",
    "N_du = SX.sym('N_du') # coupled Added mass in yaw & surge\n",
    "N_dv = SX.sym('N_dv') # coupled Added mass in yaw & sway\n",
    "N_dw = SX.sym('N_dw') # coupled Added mass in yaw & heave\n",
    "N_dp = SX.sym('N_dp') # coupled Added mass in yaw & roll\n",
    "N_dq = SX.sym('N_dq') # coupled Added mass in yaw & pitch\n",
    "N_dr = SX.sym('N_dr') # Added mass in yaw\n",
    "\n",
    "# Added Mass Forces in a Rotating Coordinate System\n",
    "# Hydrodynamic System Inertia Matrix\n",
    "_M_A = SX.sym('M_A', 6, 6)\n",
    "_M_A[0, :] = horzcat(X_du, X_dv, X_dw, X_dp, X_dq, X_dr)\n",
    "_M_A[1, :] = horzcat(Y_du, Y_dv, Y_dw, Y_dp, Y_dq, Y_dr)\n",
    "_M_A[2, :] = horzcat(Z_du, Z_dv, Z_dw, Z_dp, Z_dq, Z_dr)\n",
    "_M_A[3, :] = horzcat(K_du, K_dv, K_dw, K_dp, K_dq, K_dr)\n",
    "_M_A[4, :] = horzcat(M_du, M_dv, M_dw, M_dp, M_dq, M_dr)\n",
    "_M_A[5, :] = horzcat(N_du, N_dv, N_dw, N_dp, N_dq, N_dr)\n",
    "\n",
    "M_A = -_M_A\n",
    "\n",
    "# Hydrodynamic Coriolis and centripetal matrix\n",
    "C_A = SX.zeros(6, 6)\n",
    "a = M_A@x_nb\n",
    "a_n = SX.sym('a_n', 3)\n",
    "a_n[0] = a[0]\n",
    "a_n[1] = a[1]\n",
    "a_n[2] = a[2]\n",
    "\n",
    "b_n = SX.sym('b_n', 3)\n",
    "b_n[0] = a[3]\n",
    "b_n[1] = a[4]\n",
    "b_n[2] = a[5]\n",
    "\n",
    "C_A[3:, :3] = -skew(a_n)\n",
    "C_A[:3, 3:] = -skew(a_n)\n",
    "C_A[3:, 3:] = -skew(b_n)"
   ]
  },
  {
   "cell_type": "code",
   "execution_count": 16,
   "metadata": {},
   "outputs": [
    {
     "data": {
      "text/plain": [
       "SX(@1=0, @2=(m*(z_g*r)), @3=(m*((x_g*q)-w)), @4=((((((Z_du*u)+(Z_dv*v))+(Z_dw*w))+(Z_dp*p))+(Z_dq*q))+(Z_dr*r)), @5=(m*((x_g*r)+v)), @6=((((((Y_du*u)+(Y_dv*v))+(Y_dw*w))+(Y_dp*p))+(Y_dq*q))+(Y_dr*r)), @7=(m*w), @8=(m*((z_g*r)+(x_g*p))), @9=((((((X_du*u)+(X_dv*v))+(X_dw*w))+(X_dp*p))+(X_dq*q))+(X_dr*r)), @10=(m*u), @11=(m*((z_g*p)-v)), @12=(m*((z_g*q)+u)), @13=(m*(x_g*p)), @14=((I_zx*p)-(I_z*r)), @15=((((((N_du*u)+(N_dv*v))+(N_dw*w))+(N_dp*p))+(N_dq*q))+(N_dr*r)), @16=((((((M_du*u)+(M_dv*v))+(M_dw*w))+(M_dp*p))+(M_dq*q))+(M_dr*r)), @17=(I_y*q), @18=((I_zx*r)-(I_x*p)), @19=((((((K_du*u)+(K_dv*v))+(K_dw*w))+(K_dp*p))+(K_dq*q))+(K_dr*r)), \n",
       "[[@1, @1, @1, @2, (-(@3+@4)), (@6-@5)], \n",
       " [@1, @1, @1, (@4-@7), @8, (-(@9-@10))], \n",
       " [@1, @1, @1, (-(@11+@6)), (@9-@12), @13], \n",
       " [(-@2), (@7-@4), (@11+@6), @1, (-(@14+@15)), (@16-@17)], \n",
       " [(@3+@4), (-@8), (@12-@9), (@14+@15), @1, (-(@18+@19))], \n",
       " [(@5-@6), (@9-@10), (-@13), (-(@16-@17)), (@18+@19), @1]])"
      ]
     },
     "execution_count": 16,
     "metadata": {},
     "output_type": "execute_result"
    }
   ],
   "source": [
    "# Rigid body kinetics\n",
    "\n",
    "# body inertia tensor\n",
    "I_rb = SX.sym('I_rb', 3, 3)\n",
    "I_rb[0, 0] = I_x\n",
    "I_rb[1, 1] = I_y\n",
    "I_rb[2, 2] = I_z\n",
    "I_rb[1, 0] = -I_yx\n",
    "I_rb[2, 0] = -I_zx\n",
    "I_rb[2, 1] = -I_zy\n",
    "I_rb[0, 1] = I_rb[1, 0]\n",
    "I_rb[0, 2] = I_rb[2, 0]\n",
    "I_rb[1, 2] = I_rb[2, 1]\n",
    "\n",
    "# Rigid-Body System Inertia Matrix\n",
    "M_rb = SX(6, 6)  # Create a 6x6 symbolic matrix\n",
    "\n",
    "# Manually populate the matrix\n",
    "M_rb[:3, :3] = m*SX.eye(3)\n",
    "M_rb[3:, 3:] = I_rb\n",
    "\n",
    "S_v = SX.sym('S_v', 3)  # inertia skew symmetric component\n",
    "S_v[0] = m*x_g\n",
    "S_v[1] = m*y_g\n",
    "S_v[2] = m*z_g\n",
    "\n",
    "S = skew(S_v)\n",
    "\n",
    "M_rb[3:, :3] = S\n",
    "M_rb[:3, 3:] = -S\n",
    "\n",
    "\n",
    "# Coriolis-Centripetal Matrix from System Inertia Matrix\n",
    "# Lagrangian Parameterization\n",
    "C_rb = SX(6, 6)  # Create a 6x6 symbolic matrix\n",
    "# Manually populate the matrix\n",
    "c_m = SX(3, 3)\n",
    "\n",
    "c_m[0, 0] = -m*(y_g*q + z_g*r)\n",
    "c_m[1, 0] = m*(x_g*q - w)\n",
    "c_m[2, 0] = m*(x_g*r + v)\n",
    "\n",
    "c_m[0, 1] = m*(y_g*p + w)\n",
    "c_m[1, 1] = -m*(z_g*r + x_g*p)\n",
    "c_m[2, 1] = m*(y_g*r - u)\n",
    "\n",
    "c_m[0, 2] = m*(z_g*p - v)\n",
    "c_m[1, 2] = m*(z_g*q + u)\n",
    "c_m[2, 2] = -m*(x_g*p + y_g*q)\n",
    "\n",
    "c_I_v = SX.sym('c_I_v', 3)\n",
    "c_I_v[0] = I_zx*r + I_yx*q - I_x*p\n",
    "c_I_v[1] = I_zy*r + I_yx*p - I_y*q\n",
    "c_I_v[2] = I_zy*q + I_zx*p - I_z*r\n",
    "c_I = skew(c_I_v)\n",
    "\n",
    "C_rb[:3, :3] = SX.zeros(3, 3)\n",
    "C_rb[:3, 3:] = -c_m.T\n",
    "C_rb[3:, :3] = c_m\n",
    "C_rb[3:, 3:] = c_I\n",
    "\n",
    "C = C_rb + C_A\n",
    "C = substitute(C, y_g, 0)\n",
    "C = substitute(C, I_yx, 0)\n",
    "C = substitute(C, I_zy, 0)\n",
    "\n",
    "C"
   ]
  },
  {
   "cell_type": "code",
   "execution_count": 19,
   "metadata": {},
   "outputs": [
    {
     "data": {
      "text/plain": [
       "SX(@1=(m*z_g), @2=(m*y_g), @3=(m*x_g), \n",
       "[[(m-X_du), (-X_dv), (-X_dw), (-X_dp), (@1-X_dq), (-(@2+X_dr))], \n",
       " [(-Y_du), (m-Y_dv), (-Y_dw), (-(@1+Y_dp)), (-Y_dq), (@3-Y_dr)], \n",
       " [(-Z_du), (-Z_dv), (m-Z_dw), (@2-Z_dp), (-(@3+Z_dq)), (-Z_dr)], \n",
       " [(-K_du), (-(@1+K_dv)), (@2-K_dw), (I_x-K_dp), (-(I_yx+K_dq)), (-(I_zx+K_dr))], \n",
       " [(@1-M_du), (-M_dv), (-(@3+M_dw)), (-(I_yx+M_dp)), (I_y-M_dq), (-(I_zy+M_dr))], \n",
       " [(-(@2+N_du)), (@3-N_dv), (-N_dw), (-(I_zx+N_dp)), (-(I_zy+N_dq)), (I_z-N_dr)]])"
      ]
     },
     "execution_count": 19,
     "metadata": {},
     "output_type": "execute_result"
    }
   ],
   "source": [
    "# assuming Starboard–port symmetrical underwater vehicles yg=0 and Ixy = Iyz = 0\n",
    "\n",
    "# mask = DM([[1, 0, 1, 0, 1, 0],\n",
    "#            [0, 1, 0, 1, 0, 1],\n",
    "#            [1, 0, 1, 0, 1, 0],\n",
    "#            [0, 1, 0, 1, 0, 1],\n",
    "#            [1, 0, 1, 0, 1, 0],\n",
    "#            [0, 1, 0, 1, 0, 1]\n",
    "#            ])\n",
    "# Inertia Matrix ROV & AUV\n",
    "_M = M_rb + M_A\n",
    "\n",
    "# _M = substitute(_M, y_g, 0)\n",
    "# _M = substitute(_M, I_yx, 0)\n",
    "# _M = substitute(_M, I_zy, 0)\n",
    "# M = _M*mask\n",
    "\n",
    "# Function('M',[m, M_A[0]] ,[M])\n",
    "\n",
    "_M\n"
   ]
  },
  {
   "cell_type": "code",
   "execution_count": null,
   "metadata": {},
   "outputs": [],
   "source": []
  },
  {
   "cell_type": "code",
   "execution_count": 18,
   "metadata": {},
   "outputs": [
    {
     "data": {
      "text/plain": [
       "SX(m)"
      ]
     },
     "execution_count": 18,
     "metadata": {},
     "output_type": "execute_result"
    }
   ],
   "source": [
    "m"
   ]
  },
  {
   "cell_type": "code",
   "execution_count": 17,
   "metadata": {},
   "outputs": [
    {
     "ename": "TypeError",
     "evalue": "casadi._casadi.SX_get_free() takes exactly one argument (0 given)",
     "output_type": "error",
     "traceback": [
      "\u001b[0;31m---------------------------------------------------------------------------\u001b[0m",
      "\u001b[0;31mTypeError\u001b[0m                                 Traceback (most recent call last)",
      "\u001b[0;32m/var/folders/2z/jjqgytld2q16msb4v43rcs440000gn/T/ipykernel_99810/2211952873.py\u001b[0m in \u001b[0;36m?\u001b[0;34m()\u001b[0m\n\u001b[0;32m----> 1\u001b[0;31m \u001b[0mM\u001b[0m\u001b[0;34m.\u001b[0m\u001b[0mget_free\u001b[0m\u001b[0;34m(\u001b[0m\u001b[0;34m)\u001b[0m\u001b[0;34m\u001b[0m\u001b[0;34m\u001b[0m\u001b[0m\n\u001b[0m",
      "\u001b[0;32m/opt/homebrew/lib/python3.11/site-packages/casadi/casadi.py\u001b[0m in \u001b[0;36m?\u001b[0;34m(*args)\u001b[0m\n\u001b[1;32m  11987\u001b[0m \u001b[0;34m\u001b[0m\u001b[0m\n\u001b[1;32m  11988\u001b[0m \u001b[0;34m\u001b[0m\u001b[0m\n\u001b[1;32m  11989\u001b[0m \u001b[0;34m\u001b[0m\u001b[0m\n\u001b[1;32m  11990\u001b[0m         \"\"\"\n\u001b[0;32m> 11991\u001b[0;31m         \u001b[0;32mreturn\u001b[0m \u001b[0m_casadi\u001b[0m\u001b[0;34m.\u001b[0m\u001b[0mSX_get_free\u001b[0m\u001b[0;34m(\u001b[0m\u001b[0;34m*\u001b[0m\u001b[0margs\u001b[0m\u001b[0;34m)\u001b[0m\u001b[0;34m\u001b[0m\u001b[0;34m\u001b[0m\u001b[0m\n\u001b[0m",
      "\u001b[0;31mTypeError\u001b[0m: casadi._casadi.SX_get_free() takes exactly one argument (0 given)"
     ]
    }
   ],
   "source": [
    "M."
   ]
  },
  {
   "cell_type": "code",
   "execution_count": 25,
   "metadata": {},
   "outputs": [],
   "source": [
    "# Hydrostatics of Submerged Vehicles\n",
    "# restoring forces\n",
    "\n",
    "W = SX.sym('W')  # weight\n",
    "B = SX.sym('B')  # buoyancy\n",
    "\n",
    "thet = SX.sym('thet')\n",
    "phi = SX.sym('phi')\n",
    "\n",
    "g = SX(6, 1)\n",
    "\n",
    "g[0, 0] = (W - B)*sin(thet)\n",
    "g[1, 0] = -(W - B)*cos(thet)*sin(phi)\n",
    "g[2, 0] = -(W - B)*cos(thet)*cos(phi)\n",
    "g[3, 0] = -(y_g*W - y_b*B)*cos(thet)*cos(phi) + \\\n",
    "    (z_g*W - z_b*B)*cos(thet)*sin(phi)\n",
    "g[4, 0] = (z_g*W - z_b*B)*sin(thet) + (x_g*W - x_b*B)*cos(thet)*cos(phi)\n",
    "g[5, 0] = -(x_g*W - x_b*B)*cos(thet)*sin(phi) - (y_g*W - y_b*B)*sin(thet)\n",
    "# For neutrally buoyant vehicles W = B"
   ]
  },
  {
   "cell_type": "code",
   "execution_count": 9,
   "metadata": {},
   "outputs": [
    {
     "data": {
      "text/plain": [
       "SX(@1=0, \n",
       "[[(-D_0), @1, @1, @1, @1, @1], \n",
       " [@1, (-D_7), @1, (-D_19), @1, (-D_31)], \n",
       " [@1, @1, (-D_14), @1, (-D_26), @1], \n",
       " [@1, (-D_9), @1, (-D_21), @1, (-D_33)], \n",
       " [@1, @1, (-D_16), @1, (-D_28), @1], \n",
       " [@1, (-D_11), @1, (-D_23), @1, (-D_35)]])"
      ]
     },
     "execution_count": 9,
     "metadata": {},
     "output_type": "execute_result"
    }
   ],
   "source": [
    "# Damping will be nonlinear and coupled for an underwater vehicle moving in 6 DOFs at high speed\n",
    "\n",
    "# <xUabsU>\tQuadratic drag in surge\n",
    "\n",
    "# <yVabsV>\tQuadratic drag in sway\n",
    "\n",
    "# <zWabsW>\tQuadratic drag in heave\n",
    "\n",
    "# <kPabsP>\tQuadratic drag in roll\n",
    "\n",
    "# <mQabsQ>\tQuadratic drag in pitch\n",
    "\n",
    "# <nRabsR>\tQuadratic drag in yaw\n",
    "\n",
    "\n",
    "# Linear Damping\n",
    "# The linear damping matrix is the sum of potential damping and viscous damping matrices.\n",
    "D = DM([[Xu, 0, 0, 0, 0, 0],\n",
    "             [0, Yv, 0, Yp, 0, Yr],\n",
    "             [0, 0, Zw, 0, Zq, 0],\n",
    "             [0, Kv, 0, Kp, 0, Kr],\n",
    "             [0, 0, Mw, 0, Mq, 0],\n",
    "             [0, Nv, 0, Np, 0, Nr]])\n"
   ]
  },
  {
   "cell_type": "code",
   "execution_count": null,
   "metadata": {},
   "outputs": [],
   "source": [
    "# R_o = SX.sym('R_o',3,3)\n",
    "# R_o[0,0] = cos(phi)*cos(thet)\n",
    "# R_o[1,0] = sin(phi)*cos(thet)\n",
    "# R_o[2,0] = -sin(thet)\n",
    "\n",
    "# R_o[0,1] = -sin(phi)*cos(thet)"
   ]
  }
 ],
 "metadata": {
  "kernelspec": {
   "display_name": "Python 3",
   "language": "python",
   "name": "python3"
  },
  "language_info": {
   "codemirror_mode": {
    "name": "ipython",
    "version": 3
   },
   "file_extension": ".py",
   "mimetype": "text/x-python",
   "name": "python",
   "nbconvert_exporter": "python",
   "pygments_lexer": "ipython3",
   "version": "3.11.7"
  }
 },
 "nbformat": 4,
 "nbformat_minor": 2
}
